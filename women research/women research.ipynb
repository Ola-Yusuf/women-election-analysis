{
 "cells": [
  {
   "cell_type": "markdown",
   "id": "3e680adb",
   "metadata": {
    "id": "9a54fa0f"
   },
   "source": [
    "# WOMEN RESEARCH IN NIGERIA POLITICS"
   ]
  },
  {
   "cell_type": "markdown",
   "id": "370b5828",
   "metadata": {
    "id": "9EaJ8AGwpM-2"
   },
   "source": [
    "## Problem Statement"
   ]
  },
  {
   "cell_type": "markdown",
   "id": "d139921b",
   "metadata": {
    "id": "v_-uuGqH-qTt"
   },
   "source": [
    "## Importing necessary libraries"
   ]
  },
  {
   "cell_type": "code",
   "execution_count": 1,
   "id": "4372fbc8",
   "metadata": {
    "id": "83D17_Wl4jal"
   },
   "outputs": [],
   "source": [
    "# Installing the libraries with the specified version.\n",
    "# uncomment and run the following line if Google Colab is being used\n",
    "# !pip install scikit-learn==1.2.2 seaborn==0.13.1 matplotlib==3.7.1 numpy==1.25.2 pandas==1.5.3 imbalanced-learn==0.10.1 xgboost==2.0.3 -q --user"
   ]
  },
  {
   "cell_type": "code",
   "execution_count": 2,
   "id": "c415fadc",
   "metadata": {
    "id": "XVB5DgmofkGQ",
    "scrolled": false
   },
   "outputs": [],
   "source": [
    "# Installing the libraries with the specified version.\n",
    "# uncomment and run the following lines if Jupyter Notebook is being used\n",
    "# !pip install scikit-learn\n",
    "# !pip install seaborn \n",
    "# !pip install matplotlib \n",
    "# !pip install numpy \n",
    "# !pip install pandas \n",
    "# !pip install imblearn \n",
    "# # !pip install xgboost -q --user\n",
    "# # !pip install --upgrade -q threadpoolctl\n",
    "# !pip install scikit-plot"
   ]
  },
  {
   "cell_type": "markdown",
   "id": "24224443",
   "metadata": {
    "id": "G3tBAjBgrLAQ"
   },
   "source": [
    "**Note**: *After running the above cell, kindly restart the notebook kernel and run all cells sequentially from the start again*."
   ]
  },
  {
   "cell_type": "code",
   "execution_count": 3,
   "id": "9285c399",
   "metadata": {
    "id": "9285c399",
    "outputId": "b52aca85-ec8b-4f33-c496-a09aae289699"
   },
   "outputs": [],
   "source": [
    "# To help with reading and manipulation of data\n",
    "import numpy as np\n",
    "import pandas as pd\n",
    "\n",
    "# Removes the limit for the number of displayed columns\n",
    "pd.set_option(\"display.max_columns\", None)\n",
    "# Sets the limit for the number of displayed rows\n",
    "pd.set_option(\"display.max_rows\", 200)\n",
    "\n",
    "# To help with data visualization\n",
    "import matplotlib.pyplot as plt\n",
    "import seaborn as sns\n",
    "import scikitplot as skplt\n",
    "\n",
    "# To split the data\n",
    "from sklearn.model_selection import train_test_split\n",
    "\n",
    "# To impute missing values\n",
    "from sklearn.impute import SimpleImputer\n",
    "from sklearn.impute import KNNImputer\n",
    "\n",
    "# To preprocess the data for modelling\n",
    "from sklearn.preprocessing import StandardScaler\n",
    "from sklearn.preprocessing import OrdinalEncoder\n",
    "from sklearn.preprocessing import OneHotEncoder\n",
    "\n",
    "# To build a logistic regression classifier\n",
    "from sklearn.linear_model import LogisticRegression\n",
    "\n",
    "# To build a Decision Tree Classifier\n",
    "from sklearn.tree import DecisionTreeClassifier\n",
    "from sklearn import tree\n",
    "\n",
    "# # To build different ensemble classifiers\n",
    "from sklearn.ensemble import BaggingClassifier\n",
    "from sklearn.ensemble import RandomForestClassifier\n",
    "from sklearn.ensemble import AdaBoostClassifier\n",
    "from sklearn.ensemble import GradientBoostingClassifier\n",
    "from sklearn.ensemble import StackingClassifier\n",
    "from xgboost import XGBClassifier\n",
    "\n",
    "# # To undersample and oversample the data\n",
    "from imblearn.over_sampling import SMOTE\n",
    "from imblearn.under_sampling import RandomUnderSampler\n",
    "\n",
    "# To tune a model\n",
    "from sklearn.model_selection import GridSearchCV\n",
    "from sklearn.model_selection import RandomizedSearchCV\n",
    "\n",
    "# To create a pipeline for production\n",
    "from sklearn.pipeline import Pipeline, make_pipeline\n",
    "from sklearn.compose import ColumnTransformer\n",
    "from sklearn.compose import make_column_selector as selector\n",
    "\n",
    "# To get different performance metrics\n",
    "import sklearn.metrics as metrics\n",
    "from sklearn.metrics import (\n",
    "    classification_report,\n",
    "    confusion_matrix,\n",
    "    recall_score,\n",
    "    accuracy_score,\n",
    "    precision_score,\n",
    "    f1_score,\n",
    ")\n",
    "\n",
    "from scikitplot.metrics import (\n",
    "    plot_confusion_matrix\n",
    "    \n",
    ")\n",
    "\n",
    "# To suppress warnings\n",
    "import warnings\n",
    "\n",
    "warnings.filterwarnings(\"ignore\")"
   ]
  },
  {
   "cell_type": "markdown",
   "id": "fff908f6",
   "metadata": {
    "id": "fff908f6"
   },
   "source": [
    "### Loading Data"
   ]
  },
  {
   "cell_type": "code",
   "execution_count": 30,
   "id": "e2ad2a10",
   "metadata": {
    "id": "e2ad2a10",
    "outputId": "0d3dbe84-e83f-493a-eca5-8d3d4f37411f"
   },
   "outputs": [],
   "source": [
    "churn_dataset = pd.read_csv(\"woman_dataset.csv\")"
   ]
  },
  {
   "cell_type": "code",
   "execution_count": 31,
   "id": "03fa9004",
   "metadata": {
    "id": "03fa9004",
    "outputId": "eca48be0-6bef-4a3f-df06-5a84a07f8d76"
   },
   "outputs": [
    {
     "data": {
      "text/plain": [
       "(232, 19)"
      ]
     },
     "execution_count": 31,
     "metadata": {},
     "output_type": "execute_result"
    }
   ],
   "source": [
    "# Checking the number of rows and columns in the data\n",
    "churn_dataset.shape"
   ]
  },
  {
   "cell_type": "markdown",
   "id": "f0d32ab1",
   "metadata": {
    "id": "f0d32ab1"
   },
   "source": [
    "* The dataset has 232 rows and 20 columns "
   ]
  },
  {
   "cell_type": "markdown",
   "id": "cca79e4b",
   "metadata": {
    "id": "UvpMDcaaMKtI"
   },
   "source": [
    "## Data Overview"
   ]
  },
  {
   "cell_type": "markdown",
   "id": "096763c3",
   "metadata": {
    "id": "tIiCRwqZ54_C"
   },
   "source": [
    "- Observations\n",
    "- Sanity checks"
   ]
  },
  {
   "cell_type": "code",
   "execution_count": 32,
   "id": "45153b44",
   "metadata": {
    "id": "45153b44",
    "outputId": "74a6c5bd-d399-4f85-e3e3-c5e1e78d6968"
   },
   "outputs": [],
   "source": [
    "# let's create a copy of the data\n",
    "data = churn_dataset.copy()"
   ]
  },
  {
   "cell_type": "code",
   "execution_count": 33,
   "id": "c312eb85",
   "metadata": {
    "id": "c312eb85",
    "outputId": "82905d6b-9d35-43d3-abc0-b3c857234cba",
    "scrolled": true
   },
   "outputs": [
    {
     "data": {
      "text/html": [
       "<div>\n",
       "<style scoped>\n",
       "    .dataframe tbody tr th:only-of-type {\n",
       "        vertical-align: middle;\n",
       "    }\n",
       "\n",
       "    .dataframe tbody tr th {\n",
       "        vertical-align: top;\n",
       "    }\n",
       "\n",
       "    .dataframe thead th {\n",
       "        text-align: right;\n",
       "    }\n",
       "</style>\n",
       "<table border=\"1\" class=\"dataframe\">\n",
       "  <thead>\n",
       "    <tr style=\"text-align: right;\">\n",
       "      <th></th>\n",
       "      <th>Work Sector</th>\n",
       "      <th>Educational Qualification</th>\n",
       "      <th>Religion</th>\n",
       "      <th>Age range</th>\n",
       "      <th>Are you politically active? This includes either of attending rallies, campaigns, or exercising voter franchise.</th>\n",
       "      <th>Do you have political ambitions  or desires to hold electoral offices?</th>\n",
       "      <th>Are you affiliated with any political party?</th>\n",
       "      <th>What are factors that hinder or have hindered your political ambitions? Tick all that apply</th>\n",
       "      <th>Do you see yourself as unqualified or as a running mate</th>\n",
       "      <th>Discriminatory socio-cultural and religious practice.</th>\n",
       "      <th>Too expensive</th>\n",
       "      <th>Unsupportive family including spouse and relatives</th>\n",
       "      <th>I think Political parties favor men than women</th>\n",
       "      <th>Childbearing and consideration for family</th>\n",
       "      <th>How can mentroship improve this? Tick all that applies.</th>\n",
       "      <th>Have you ever received political mentorship services from politicians or godfathers, NGOs?</th>\n",
       "      <th>Would you love to receive (more) mentorship from a male or female politician?</th>\n",
       "      <th>Do you think mentorship will (has) improve(d) your decisions to contest political positions?</th>\n",
       "      <th>Do you think mentorship will improve  chances for more females attaining political office?</th>\n",
       "    </tr>\n",
       "  </thead>\n",
       "  <tbody>\n",
       "    <tr>\n",
       "      <th>0</th>\n",
       "      <td>Informal Sector (Entrepreneurs, Artisans, Trad...</td>\n",
       "      <td>First Degree</td>\n",
       "      <td>Christianity</td>\n",
       "      <td>18-30</td>\n",
       "      <td>Yes</td>\n",
       "      <td>Yes</td>\n",
       "      <td>Yes</td>\n",
       "      <td>NaN</td>\n",
       "      <td>Yes</td>\n",
       "      <td>Yes</td>\n",
       "      <td>Yes</td>\n",
       "      <td>No</td>\n",
       "      <td>No</td>\n",
       "      <td>No</td>\n",
       "      <td>NaN</td>\n",
       "      <td>Yes</td>\n",
       "      <td>Yes</td>\n",
       "      <td>Yes</td>\n",
       "      <td>Yes</td>\n",
       "    </tr>\n",
       "    <tr>\n",
       "      <th>1</th>\n",
       "      <td>Informal Sector (Entrepreneurs, Artisans, Trad...</td>\n",
       "      <td>SSCE and below</td>\n",
       "      <td>Islam</td>\n",
       "      <td>31-49</td>\n",
       "      <td>Yes</td>\n",
       "      <td>No</td>\n",
       "      <td>No</td>\n",
       "      <td>NaN</td>\n",
       "      <td>No</td>\n",
       "      <td>Yes</td>\n",
       "      <td>No</td>\n",
       "      <td>Yes</td>\n",
       "      <td>Yes</td>\n",
       "      <td>Yes</td>\n",
       "      <td>NaN</td>\n",
       "      <td>No</td>\n",
       "      <td>Yes</td>\n",
       "      <td>Yes</td>\n",
       "      <td>Yes</td>\n",
       "    </tr>\n",
       "    <tr>\n",
       "      <th>2</th>\n",
       "      <td>Informal Sector (Entrepreneurs, Artisans, Trad...</td>\n",
       "      <td>Postgraduate (M.Sc., PGD. M.Phil, Ph.D.)</td>\n",
       "      <td>Christianity</td>\n",
       "      <td>18-30</td>\n",
       "      <td>Yes</td>\n",
       "      <td>Yes</td>\n",
       "      <td>Yes</td>\n",
       "      <td>NaN</td>\n",
       "      <td>No</td>\n",
       "      <td>Yes</td>\n",
       "      <td>Yes</td>\n",
       "      <td>No</td>\n",
       "      <td>No</td>\n",
       "      <td>Yes</td>\n",
       "      <td>NaN</td>\n",
       "      <td>No</td>\n",
       "      <td>Yes</td>\n",
       "      <td>Yes</td>\n",
       "      <td>Yes</td>\n",
       "    </tr>\n",
       "    <tr>\n",
       "      <th>3</th>\n",
       "      <td>Formal Sector (9-5 jobs, Professionals, Hybrid...</td>\n",
       "      <td>SSCE and below</td>\n",
       "      <td>Christianity</td>\n",
       "      <td>18-30</td>\n",
       "      <td>Yes</td>\n",
       "      <td>No</td>\n",
       "      <td>No</td>\n",
       "      <td>NaN</td>\n",
       "      <td>No</td>\n",
       "      <td>Yes</td>\n",
       "      <td>Yes</td>\n",
       "      <td>No</td>\n",
       "      <td>No</td>\n",
       "      <td>Yes</td>\n",
       "      <td>NaN</td>\n",
       "      <td>Yes</td>\n",
       "      <td>Yes</td>\n",
       "      <td>Yes</td>\n",
       "      <td>Yes</td>\n",
       "    </tr>\n",
       "    <tr>\n",
       "      <th>4</th>\n",
       "      <td>Informal Sector (Entrepreneurs, Artisans, Trad...</td>\n",
       "      <td>First Degree</td>\n",
       "      <td>Islam</td>\n",
       "      <td>18-30</td>\n",
       "      <td>Yes</td>\n",
       "      <td>No</td>\n",
       "      <td>No</td>\n",
       "      <td>NaN</td>\n",
       "      <td>Yes</td>\n",
       "      <td>No</td>\n",
       "      <td>Yes</td>\n",
       "      <td>No</td>\n",
       "      <td>No</td>\n",
       "      <td>No</td>\n",
       "      <td>NaN</td>\n",
       "      <td>Yes</td>\n",
       "      <td>Yes</td>\n",
       "      <td>No</td>\n",
       "      <td>No</td>\n",
       "    </tr>\n",
       "  </tbody>\n",
       "</table>\n",
       "</div>"
      ],
      "text/plain": [
       "                                         Work Sector  \\\n",
       "0  Informal Sector (Entrepreneurs, Artisans, Trad...   \n",
       "1  Informal Sector (Entrepreneurs, Artisans, Trad...   \n",
       "2  Informal Sector (Entrepreneurs, Artisans, Trad...   \n",
       "3  Formal Sector (9-5 jobs, Professionals, Hybrid...   \n",
       "4  Informal Sector (Entrepreneurs, Artisans, Trad...   \n",
       "\n",
       "                  Educational Qualification      Religion Age range  \\\n",
       "0                             First Degree   Christianity     18-30   \n",
       "1                            SSCE and below         Islam     31-49   \n",
       "2  Postgraduate (M.Sc., PGD. M.Phil, Ph.D.)  Christianity     18-30   \n",
       "3                            SSCE and below  Christianity     18-30   \n",
       "4                             First Degree          Islam     18-30   \n",
       "\n",
       "  Are you politically active? This includes either of attending rallies, campaigns, or exercising voter franchise.  \\\n",
       "0                                                Yes                                                                 \n",
       "1                                                Yes                                                                 \n",
       "2                                                Yes                                                                 \n",
       "3                                                Yes                                                                 \n",
       "4                                                Yes                                                                 \n",
       "\n",
       "  Do you have political ambitions  or desires to hold electoral offices?  \\\n",
       "0                                                Yes                       \n",
       "1                                                 No                       \n",
       "2                                                Yes                       \n",
       "3                                                 No                       \n",
       "4                                                 No                       \n",
       "\n",
       "  Are you affiliated with any political party?  \\\n",
       "0                                          Yes   \n",
       "1                                           No   \n",
       "2                                          Yes   \n",
       "3                                           No   \n",
       "4                                           No   \n",
       "\n",
       "   What are factors that hinder or have hindered your political ambitions? Tick all that apply  \\\n",
       "0                                                NaN                                             \n",
       "1                                                NaN                                             \n",
       "2                                                NaN                                             \n",
       "3                                                NaN                                             \n",
       "4                                                NaN                                             \n",
       "\n",
       "  Do you see yourself as unqualified or as a running mate  \\\n",
       "0                                                Yes        \n",
       "1                                                 No        \n",
       "2                                                 No        \n",
       "3                                                 No        \n",
       "4                                                Yes        \n",
       "\n",
       "  Discriminatory socio-cultural and religious practice. Too expensive  \\\n",
       "0                                                Yes             Yes    \n",
       "1                                                Yes               No   \n",
       "2                                                Yes              Yes   \n",
       "3                                                Yes              Yes   \n",
       "4                                                 No              Yes   \n",
       "\n",
       "  Unsupportive family including spouse and relatives   \\\n",
       "0                                                 No    \n",
       "1                                                Yes    \n",
       "2                                                 No    \n",
       "3                                                 No    \n",
       "4                                                 No    \n",
       "\n",
       "  I think Political parties favor men than women  \\\n",
       "0                                             No   \n",
       "1                                            Yes   \n",
       "2                                             No   \n",
       "3                                             No   \n",
       "4                                             No   \n",
       "\n",
       "  Childbearing and consideration for family   \\\n",
       "0                                         No   \n",
       "1                                        Yes   \n",
       "2                                        Yes   \n",
       "3                                        Yes   \n",
       "4                                         No   \n",
       "\n",
       "   How can mentroship improve this? Tick all that applies.  \\\n",
       "0                                                NaN         \n",
       "1                                                NaN         \n",
       "2                                                NaN         \n",
       "3                                                NaN         \n",
       "4                                                NaN         \n",
       "\n",
       "  Have you ever received political mentorship services from politicians or godfathers, NGOs?  \\\n",
       "0                                                Yes                                           \n",
       "1                                                 No                                           \n",
       "2                                                 No                                           \n",
       "3                                                Yes                                           \n",
       "4                                                Yes                                           \n",
       "\n",
       "  Would you love to receive (more) mentorship from a male or female politician?  \\\n",
       "0                                                Yes                              \n",
       "1                                                Yes                              \n",
       "2                                                Yes                              \n",
       "3                                                Yes                              \n",
       "4                                                Yes                              \n",
       "\n",
       "  Do you think mentorship will (has) improve(d) your decisions to contest political positions?  \\\n",
       "0                                                Yes                                             \n",
       "1                                                Yes                                             \n",
       "2                                                Yes                                             \n",
       "3                                                Yes                                             \n",
       "4                                                 No                                             \n",
       "\n",
       "  Do you think mentorship will improve  chances for more females attaining political office?  \n",
       "0                                                Yes                                          \n",
       "1                                                Yes                                          \n",
       "2                                                Yes                                          \n",
       "3                                                Yes                                          \n",
       "4                                                 No                                          "
      ]
     },
     "execution_count": 33,
     "metadata": {},
     "output_type": "execute_result"
    }
   ],
   "source": [
    "# let's view the first 5 rows of the data\n",
    "data.head()"
   ]
  },
  {
   "cell_type": "code",
   "execution_count": 34,
   "id": "a638d79b",
   "metadata": {
    "id": "a638d79b",
    "outputId": "ee8acf59-bcd2-4b3a-c5fb-d8e190b6ddcb",
    "scrolled": false
   },
   "outputs": [
    {
     "data": {
      "text/html": [
       "<div>\n",
       "<style scoped>\n",
       "    .dataframe tbody tr th:only-of-type {\n",
       "        vertical-align: middle;\n",
       "    }\n",
       "\n",
       "    .dataframe tbody tr th {\n",
       "        vertical-align: top;\n",
       "    }\n",
       "\n",
       "    .dataframe thead th {\n",
       "        text-align: right;\n",
       "    }\n",
       "</style>\n",
       "<table border=\"1\" class=\"dataframe\">\n",
       "  <thead>\n",
       "    <tr style=\"text-align: right;\">\n",
       "      <th></th>\n",
       "      <th>Work Sector</th>\n",
       "      <th>Educational Qualification</th>\n",
       "      <th>Religion</th>\n",
       "      <th>Age range</th>\n",
       "      <th>Are you politically active? This includes either of attending rallies, campaigns, or exercising voter franchise.</th>\n",
       "      <th>Do you have political ambitions  or desires to hold electoral offices?</th>\n",
       "      <th>Are you affiliated with any political party?</th>\n",
       "      <th>What are factors that hinder or have hindered your political ambitions? Tick all that apply</th>\n",
       "      <th>Do you see yourself as unqualified or as a running mate</th>\n",
       "      <th>Discriminatory socio-cultural and religious practice.</th>\n",
       "      <th>Too expensive</th>\n",
       "      <th>Unsupportive family including spouse and relatives</th>\n",
       "      <th>I think Political parties favor men than women</th>\n",
       "      <th>Childbearing and consideration for family</th>\n",
       "      <th>How can mentroship improve this? Tick all that applies.</th>\n",
       "      <th>Have you ever received political mentorship services from politicians or godfathers, NGOs?</th>\n",
       "      <th>Would you love to receive (more) mentorship from a male or female politician?</th>\n",
       "      <th>Do you think mentorship will (has) improve(d) your decisions to contest political positions?</th>\n",
       "      <th>Do you think mentorship will improve  chances for more females attaining political office?</th>\n",
       "    </tr>\n",
       "  </thead>\n",
       "  <tbody>\n",
       "    <tr>\n",
       "      <th>227</th>\n",
       "      <td>NaN</td>\n",
       "      <td>NaN</td>\n",
       "      <td>NaN</td>\n",
       "      <td>NaN</td>\n",
       "      <td>NaN</td>\n",
       "      <td>NaN</td>\n",
       "      <td>NaN</td>\n",
       "      <td>NaN</td>\n",
       "      <td>NaN</td>\n",
       "      <td>NaN</td>\n",
       "      <td>NaN</td>\n",
       "      <td>NaN</td>\n",
       "      <td>NaN</td>\n",
       "      <td>NaN</td>\n",
       "      <td>NaN</td>\n",
       "      <td>NaN</td>\n",
       "      <td>NaN</td>\n",
       "      <td>NaN</td>\n",
       "      <td>NaN</td>\n",
       "    </tr>\n",
       "    <tr>\n",
       "      <th>228</th>\n",
       "      <td>NaN</td>\n",
       "      <td>NaN</td>\n",
       "      <td>NaN</td>\n",
       "      <td>NaN</td>\n",
       "      <td>NaN</td>\n",
       "      <td>NaN</td>\n",
       "      <td>NaN</td>\n",
       "      <td>NaN</td>\n",
       "      <td>NaN</td>\n",
       "      <td>NaN</td>\n",
       "      <td>NaN</td>\n",
       "      <td>NaN</td>\n",
       "      <td>NaN</td>\n",
       "      <td>NaN</td>\n",
       "      <td>NaN</td>\n",
       "      <td>NaN</td>\n",
       "      <td>NaN</td>\n",
       "      <td>NaN</td>\n",
       "      <td>NaN</td>\n",
       "    </tr>\n",
       "    <tr>\n",
       "      <th>229</th>\n",
       "      <td>NaN</td>\n",
       "      <td>NaN</td>\n",
       "      <td>NaN</td>\n",
       "      <td>NaN</td>\n",
       "      <td>NaN</td>\n",
       "      <td>NaN</td>\n",
       "      <td>NaN</td>\n",
       "      <td>NaN</td>\n",
       "      <td>NaN</td>\n",
       "      <td>NaN</td>\n",
       "      <td>NaN</td>\n",
       "      <td>NaN</td>\n",
       "      <td>NaN</td>\n",
       "      <td>NaN</td>\n",
       "      <td>NaN</td>\n",
       "      <td>NaN</td>\n",
       "      <td>NaN</td>\n",
       "      <td>NaN</td>\n",
       "      <td>NaN</td>\n",
       "    </tr>\n",
       "    <tr>\n",
       "      <th>230</th>\n",
       "      <td>NaN</td>\n",
       "      <td>NaN</td>\n",
       "      <td>NaN</td>\n",
       "      <td>NaN</td>\n",
       "      <td>NaN</td>\n",
       "      <td>NaN</td>\n",
       "      <td>NaN</td>\n",
       "      <td>NaN</td>\n",
       "      <td>NaN</td>\n",
       "      <td>NaN</td>\n",
       "      <td>NaN</td>\n",
       "      <td>NaN</td>\n",
       "      <td>NaN</td>\n",
       "      <td>NaN</td>\n",
       "      <td>NaN</td>\n",
       "      <td>NaN</td>\n",
       "      <td>NaN</td>\n",
       "      <td>NaN</td>\n",
       "      <td>NaN</td>\n",
       "    </tr>\n",
       "    <tr>\n",
       "      <th>231</th>\n",
       "      <td>NaN</td>\n",
       "      <td>NaN</td>\n",
       "      <td>NaN</td>\n",
       "      <td>NaN</td>\n",
       "      <td>NaN</td>\n",
       "      <td>NaN</td>\n",
       "      <td>NaN</td>\n",
       "      <td>NaN</td>\n",
       "      <td>NaN</td>\n",
       "      <td>NaN</td>\n",
       "      <td>NaN</td>\n",
       "      <td>NaN</td>\n",
       "      <td>NaN</td>\n",
       "      <td>NaN</td>\n",
       "      <td>NaN</td>\n",
       "      <td>NaN</td>\n",
       "      <td>NaN</td>\n",
       "      <td>NaN</td>\n",
       "      <td>NaN</td>\n",
       "    </tr>\n",
       "  </tbody>\n",
       "</table>\n",
       "</div>"
      ],
      "text/plain": [
       "    Work Sector Educational Qualification Religion Age range  \\\n",
       "227         NaN                       NaN      NaN       NaN   \n",
       "228         NaN                       NaN      NaN       NaN   \n",
       "229         NaN                       NaN      NaN       NaN   \n",
       "230         NaN                       NaN      NaN       NaN   \n",
       "231         NaN                       NaN      NaN       NaN   \n",
       "\n",
       "    Are you politically active? This includes either of attending rallies, campaigns, or exercising voter franchise.  \\\n",
       "227                                                NaN                                                                 \n",
       "228                                                NaN                                                                 \n",
       "229                                                NaN                                                                 \n",
       "230                                                NaN                                                                 \n",
       "231                                                NaN                                                                 \n",
       "\n",
       "    Do you have political ambitions  or desires to hold electoral offices?  \\\n",
       "227                                                NaN                       \n",
       "228                                                NaN                       \n",
       "229                                                NaN                       \n",
       "230                                                NaN                       \n",
       "231                                                NaN                       \n",
       "\n",
       "    Are you affiliated with any political party?  \\\n",
       "227                                          NaN   \n",
       "228                                          NaN   \n",
       "229                                          NaN   \n",
       "230                                          NaN   \n",
       "231                                          NaN   \n",
       "\n",
       "     What are factors that hinder or have hindered your political ambitions? Tick all that apply  \\\n",
       "227                                                NaN                                             \n",
       "228                                                NaN                                             \n",
       "229                                                NaN                                             \n",
       "230                                                NaN                                             \n",
       "231                                                NaN                                             \n",
       "\n",
       "    Do you see yourself as unqualified or as a running mate  \\\n",
       "227                                                NaN        \n",
       "228                                                NaN        \n",
       "229                                                NaN        \n",
       "230                                                NaN        \n",
       "231                                                NaN        \n",
       "\n",
       "    Discriminatory socio-cultural and religious practice. Too expensive  \\\n",
       "227                                                NaN              NaN   \n",
       "228                                                NaN              NaN   \n",
       "229                                                NaN              NaN   \n",
       "230                                                NaN              NaN   \n",
       "231                                                NaN              NaN   \n",
       "\n",
       "    Unsupportive family including spouse and relatives   \\\n",
       "227                                                NaN    \n",
       "228                                                NaN    \n",
       "229                                                NaN    \n",
       "230                                                NaN    \n",
       "231                                                NaN    \n",
       "\n",
       "    I think Political parties favor men than women  \\\n",
       "227                                            NaN   \n",
       "228                                            NaN   \n",
       "229                                            NaN   \n",
       "230                                            NaN   \n",
       "231                                            NaN   \n",
       "\n",
       "    Childbearing and consideration for family   \\\n",
       "227                                        NaN   \n",
       "228                                        NaN   \n",
       "229                                        NaN   \n",
       "230                                        NaN   \n",
       "231                                        NaN   \n",
       "\n",
       "     How can mentroship improve this? Tick all that applies.  \\\n",
       "227                                                NaN         \n",
       "228                                                NaN         \n",
       "229                                                NaN         \n",
       "230                                                NaN         \n",
       "231                                                NaN         \n",
       "\n",
       "    Have you ever received political mentorship services from politicians or godfathers, NGOs?  \\\n",
       "227                                                NaN                                           \n",
       "228                                                NaN                                           \n",
       "229                                                NaN                                           \n",
       "230                                                NaN                                           \n",
       "231                                                NaN                                           \n",
       "\n",
       "    Would you love to receive (more) mentorship from a male or female politician?  \\\n",
       "227                                                NaN                              \n",
       "228                                                NaN                              \n",
       "229                                                NaN                              \n",
       "230                                                NaN                              \n",
       "231                                                NaN                              \n",
       "\n",
       "    Do you think mentorship will (has) improve(d) your decisions to contest political positions?  \\\n",
       "227                                                NaN                                             \n",
       "228                                                NaN                                             \n",
       "229                                                NaN                                             \n",
       "230                                                NaN                                             \n",
       "231                                                NaN                                             \n",
       "\n",
       "    Do you think mentorship will improve  chances for more females attaining political office?  \n",
       "227                                                NaN                                          \n",
       "228                                                NaN                                          \n",
       "229                                                NaN                                          \n",
       "230                                                NaN                                          \n",
       "231                                                NaN                                          "
      ]
     },
     "execution_count": 34,
     "metadata": {},
     "output_type": "execute_result"
    }
   ],
   "source": [
    "# let's view the last 5 rows of the data\n",
    "data.tail()"
   ]
  },
  {
   "cell_type": "code",
   "execution_count": 35,
   "id": "1f5a6ab1",
   "metadata": {},
   "outputs": [
    {
     "data": {
      "text/plain": [
       "['Work Sector',\n",
       " 'Educational Qualification',\n",
       " 'Religion',\n",
       " 'Age range',\n",
       " 'Are you politically active? This includes either of attending rallies, campaigns, or exercising voter franchise.',\n",
       " 'Do you have political ambitions  or desires to hold electoral offices?',\n",
       " 'Are you affiliated with any political party?',\n",
       " 'What are factors that hinder or have hindered your political ambitions? Tick all that apply',\n",
       " 'Do you see yourself as unqualified or as a running mate',\n",
       " 'Discriminatory socio-cultural and religious practice.',\n",
       " 'Too expensive',\n",
       " 'Unsupportive family including spouse and relatives ',\n",
       " 'I think Political parties favor men than women',\n",
       " 'Childbearing and consideration for family ',\n",
       " 'How can mentroship improve this? Tick all that applies.',\n",
       " 'Have you ever received political mentorship services from politicians or godfathers, NGOs?',\n",
       " 'Would you love to receive (more) mentorship from a male or female politician?',\n",
       " 'Do you think mentorship will (has) improve(d) your decisions to contest political positions?',\n",
       " 'Do you think mentorship will improve  chances for more females attaining political office?']"
      ]
     },
     "execution_count": 35,
     "metadata": {},
     "output_type": "execute_result"
    }
   ],
   "source": [
    "data.columns.tolist()"
   ]
  },
  {
   "cell_type": "markdown",
   "id": "92e45bec",
   "metadata": {
    "papermill": {
     "duration": 0.212412,
     "end_time": "2021-08-18T23:31:00.745058",
     "exception": false,
     "start_time": "2021-08-18T23:31:00.532646",
     "status": "completed"
    },
    "tags": []
   },
   "source": [
    "### Data Type Conversions"
   ]
  },
  {
   "cell_type": "code",
   "execution_count": 36,
   "id": "bdfad989",
   "metadata": {
    "id": "bdfad989",
    "outputId": "26b8791c-e13d-4534-c3f8-260666fb2b3b"
   },
   "outputs": [
    {
     "data": {
      "text/html": [
       "<div>\n",
       "<style scoped>\n",
       "    .dataframe tbody tr th:only-of-type {\n",
       "        vertical-align: middle;\n",
       "    }\n",
       "\n",
       "    .dataframe tbody tr th {\n",
       "        vertical-align: top;\n",
       "    }\n",
       "\n",
       "    .dataframe thead th {\n",
       "        text-align: right;\n",
       "    }\n",
       "</style>\n",
       "<table border=\"1\" class=\"dataframe\">\n",
       "  <thead>\n",
       "    <tr style=\"text-align: right;\">\n",
       "      <th></th>\n",
       "      <th>count</th>\n",
       "      <th>unique</th>\n",
       "      <th>top</th>\n",
       "      <th>freq</th>\n",
       "      <th>mean</th>\n",
       "      <th>std</th>\n",
       "      <th>min</th>\n",
       "      <th>25%</th>\n",
       "      <th>50%</th>\n",
       "      <th>75%</th>\n",
       "      <th>max</th>\n",
       "    </tr>\n",
       "  </thead>\n",
       "  <tbody>\n",
       "    <tr>\n",
       "      <th>Work Sector</th>\n",
       "      <td>212</td>\n",
       "      <td>2</td>\n",
       "      <td>Informal Sector (Entrepreneurs, Artisans, Trad...</td>\n",
       "      <td>129</td>\n",
       "      <td>NaN</td>\n",
       "      <td>NaN</td>\n",
       "      <td>NaN</td>\n",
       "      <td>NaN</td>\n",
       "      <td>NaN</td>\n",
       "      <td>NaN</td>\n",
       "      <td>NaN</td>\n",
       "    </tr>\n",
       "    <tr>\n",
       "      <th>Educational Qualification</th>\n",
       "      <td>212</td>\n",
       "      <td>5</td>\n",
       "      <td>First Degree</td>\n",
       "      <td>110</td>\n",
       "      <td>NaN</td>\n",
       "      <td>NaN</td>\n",
       "      <td>NaN</td>\n",
       "      <td>NaN</td>\n",
       "      <td>NaN</td>\n",
       "      <td>NaN</td>\n",
       "      <td>NaN</td>\n",
       "    </tr>\n",
       "    <tr>\n",
       "      <th>Religion</th>\n",
       "      <td>212</td>\n",
       "      <td>3</td>\n",
       "      <td>Christianity</td>\n",
       "      <td>106</td>\n",
       "      <td>NaN</td>\n",
       "      <td>NaN</td>\n",
       "      <td>NaN</td>\n",
       "      <td>NaN</td>\n",
       "      <td>NaN</td>\n",
       "      <td>NaN</td>\n",
       "      <td>NaN</td>\n",
       "    </tr>\n",
       "    <tr>\n",
       "      <th>Age range</th>\n",
       "      <td>212</td>\n",
       "      <td>4</td>\n",
       "      <td>18-30</td>\n",
       "      <td>109</td>\n",
       "      <td>NaN</td>\n",
       "      <td>NaN</td>\n",
       "      <td>NaN</td>\n",
       "      <td>NaN</td>\n",
       "      <td>NaN</td>\n",
       "      <td>NaN</td>\n",
       "      <td>NaN</td>\n",
       "    </tr>\n",
       "    <tr>\n",
       "      <th>Are you politically active? This includes either of attending rallies, campaigns, or exercising voter franchise.</th>\n",
       "      <td>212</td>\n",
       "      <td>1</td>\n",
       "      <td>Yes</td>\n",
       "      <td>212</td>\n",
       "      <td>NaN</td>\n",
       "      <td>NaN</td>\n",
       "      <td>NaN</td>\n",
       "      <td>NaN</td>\n",
       "      <td>NaN</td>\n",
       "      <td>NaN</td>\n",
       "      <td>NaN</td>\n",
       "    </tr>\n",
       "    <tr>\n",
       "      <th>Do you have political ambitions  or desires to hold electoral offices?</th>\n",
       "      <td>212</td>\n",
       "      <td>2</td>\n",
       "      <td>Yes</td>\n",
       "      <td>154</td>\n",
       "      <td>NaN</td>\n",
       "      <td>NaN</td>\n",
       "      <td>NaN</td>\n",
       "      <td>NaN</td>\n",
       "      <td>NaN</td>\n",
       "      <td>NaN</td>\n",
       "      <td>NaN</td>\n",
       "    </tr>\n",
       "    <tr>\n",
       "      <th>Are you affiliated with any political party?</th>\n",
       "      <td>212</td>\n",
       "      <td>2</td>\n",
       "      <td>Yes</td>\n",
       "      <td>137</td>\n",
       "      <td>NaN</td>\n",
       "      <td>NaN</td>\n",
       "      <td>NaN</td>\n",
       "      <td>NaN</td>\n",
       "      <td>NaN</td>\n",
       "      <td>NaN</td>\n",
       "      <td>NaN</td>\n",
       "    </tr>\n",
       "    <tr>\n",
       "      <th>What are factors that hinder or have hindered your political ambitions? Tick all that apply</th>\n",
       "      <td>0.0</td>\n",
       "      <td>NaN</td>\n",
       "      <td>NaN</td>\n",
       "      <td>NaN</td>\n",
       "      <td>NaN</td>\n",
       "      <td>NaN</td>\n",
       "      <td>NaN</td>\n",
       "      <td>NaN</td>\n",
       "      <td>NaN</td>\n",
       "      <td>NaN</td>\n",
       "      <td>NaN</td>\n",
       "    </tr>\n",
       "    <tr>\n",
       "      <th>Do you see yourself as unqualified or as a running mate</th>\n",
       "      <td>212</td>\n",
       "      <td>2</td>\n",
       "      <td>Yes</td>\n",
       "      <td>117</td>\n",
       "      <td>NaN</td>\n",
       "      <td>NaN</td>\n",
       "      <td>NaN</td>\n",
       "      <td>NaN</td>\n",
       "      <td>NaN</td>\n",
       "      <td>NaN</td>\n",
       "      <td>NaN</td>\n",
       "    </tr>\n",
       "    <tr>\n",
       "      <th>Discriminatory socio-cultural and religious practice.</th>\n",
       "      <td>212</td>\n",
       "      <td>2</td>\n",
       "      <td>No</td>\n",
       "      <td>141</td>\n",
       "      <td>NaN</td>\n",
       "      <td>NaN</td>\n",
       "      <td>NaN</td>\n",
       "      <td>NaN</td>\n",
       "      <td>NaN</td>\n",
       "      <td>NaN</td>\n",
       "      <td>NaN</td>\n",
       "    </tr>\n",
       "    <tr>\n",
       "      <th>Too expensive</th>\n",
       "      <td>212</td>\n",
       "      <td>3</td>\n",
       "      <td>Yes</td>\n",
       "      <td>208</td>\n",
       "      <td>NaN</td>\n",
       "      <td>NaN</td>\n",
       "      <td>NaN</td>\n",
       "      <td>NaN</td>\n",
       "      <td>NaN</td>\n",
       "      <td>NaN</td>\n",
       "      <td>NaN</td>\n",
       "    </tr>\n",
       "    <tr>\n",
       "      <th>Unsupportive family including spouse and relatives</th>\n",
       "      <td>212</td>\n",
       "      <td>2</td>\n",
       "      <td>No</td>\n",
       "      <td>126</td>\n",
       "      <td>NaN</td>\n",
       "      <td>NaN</td>\n",
       "      <td>NaN</td>\n",
       "      <td>NaN</td>\n",
       "      <td>NaN</td>\n",
       "      <td>NaN</td>\n",
       "      <td>NaN</td>\n",
       "    </tr>\n",
       "    <tr>\n",
       "      <th>I think Political parties favor men than women</th>\n",
       "      <td>212</td>\n",
       "      <td>2</td>\n",
       "      <td>Yes</td>\n",
       "      <td>176</td>\n",
       "      <td>NaN</td>\n",
       "      <td>NaN</td>\n",
       "      <td>NaN</td>\n",
       "      <td>NaN</td>\n",
       "      <td>NaN</td>\n",
       "      <td>NaN</td>\n",
       "      <td>NaN</td>\n",
       "    </tr>\n",
       "    <tr>\n",
       "      <th>Childbearing and consideration for family</th>\n",
       "      <td>212</td>\n",
       "      <td>2</td>\n",
       "      <td>Yes</td>\n",
       "      <td>166</td>\n",
       "      <td>NaN</td>\n",
       "      <td>NaN</td>\n",
       "      <td>NaN</td>\n",
       "      <td>NaN</td>\n",
       "      <td>NaN</td>\n",
       "      <td>NaN</td>\n",
       "      <td>NaN</td>\n",
       "    </tr>\n",
       "    <tr>\n",
       "      <th>How can mentroship improve this? Tick all that applies.</th>\n",
       "      <td>0.0</td>\n",
       "      <td>NaN</td>\n",
       "      <td>NaN</td>\n",
       "      <td>NaN</td>\n",
       "      <td>NaN</td>\n",
       "      <td>NaN</td>\n",
       "      <td>NaN</td>\n",
       "      <td>NaN</td>\n",
       "      <td>NaN</td>\n",
       "      <td>NaN</td>\n",
       "      <td>NaN</td>\n",
       "    </tr>\n",
       "    <tr>\n",
       "      <th>Have you ever received political mentorship services from politicians or godfathers, NGOs?</th>\n",
       "      <td>212</td>\n",
       "      <td>2</td>\n",
       "      <td>No</td>\n",
       "      <td>115</td>\n",
       "      <td>NaN</td>\n",
       "      <td>NaN</td>\n",
       "      <td>NaN</td>\n",
       "      <td>NaN</td>\n",
       "      <td>NaN</td>\n",
       "      <td>NaN</td>\n",
       "      <td>NaN</td>\n",
       "    </tr>\n",
       "    <tr>\n",
       "      <th>Would you love to receive (more) mentorship from a male or female politician?</th>\n",
       "      <td>212</td>\n",
       "      <td>2</td>\n",
       "      <td>Yes</td>\n",
       "      <td>211</td>\n",
       "      <td>NaN</td>\n",
       "      <td>NaN</td>\n",
       "      <td>NaN</td>\n",
       "      <td>NaN</td>\n",
       "      <td>NaN</td>\n",
       "      <td>NaN</td>\n",
       "      <td>NaN</td>\n",
       "    </tr>\n",
       "    <tr>\n",
       "      <th>Do you think mentorship will (has) improve(d) your decisions to contest political positions?</th>\n",
       "      <td>212</td>\n",
       "      <td>2</td>\n",
       "      <td>Yes</td>\n",
       "      <td>192</td>\n",
       "      <td>NaN</td>\n",
       "      <td>NaN</td>\n",
       "      <td>NaN</td>\n",
       "      <td>NaN</td>\n",
       "      <td>NaN</td>\n",
       "      <td>NaN</td>\n",
       "      <td>NaN</td>\n",
       "    </tr>\n",
       "    <tr>\n",
       "      <th>Do you think mentorship will improve  chances for more females attaining political office?</th>\n",
       "      <td>212</td>\n",
       "      <td>2</td>\n",
       "      <td>Yes</td>\n",
       "      <td>199</td>\n",
       "      <td>NaN</td>\n",
       "      <td>NaN</td>\n",
       "      <td>NaN</td>\n",
       "      <td>NaN</td>\n",
       "      <td>NaN</td>\n",
       "      <td>NaN</td>\n",
       "      <td>NaN</td>\n",
       "    </tr>\n",
       "  </tbody>\n",
       "</table>\n",
       "</div>"
      ],
      "text/plain": [
       "                                                   count unique  \\\n",
       "Work Sector                                          212      2   \n",
       "Educational Qualification                            212      5   \n",
       "Religion                                             212      3   \n",
       "Age range                                            212      4   \n",
       "Are you politically active? This includes eithe...   212      1   \n",
       "Do you have political ambitions  or desires to ...   212      2   \n",
       "Are you affiliated with any political party?         212      2   \n",
       "What are factors that hinder or have hindered y...   0.0    NaN   \n",
       "Do you see yourself as unqualified or as a runn...   212      2   \n",
       "Discriminatory socio-cultural and religious pra...   212      2   \n",
       "Too expensive                                        212      3   \n",
       "Unsupportive family including spouse and relati...   212      2   \n",
       "I think Political parties favor men than women       212      2   \n",
       "Childbearing and consideration for family            212      2   \n",
       "How can mentroship improve this? Tick all that ...   0.0    NaN   \n",
       "Have you ever received political mentorship ser...   212      2   \n",
       "Would you love to receive (more) mentorship fro...   212      2   \n",
       "Do you think mentorship will (has) improve(d) y...   212      2   \n",
       "Do you think mentorship will improve  chances f...   212      2   \n",
       "\n",
       "                                                                                                  top  \\\n",
       "Work Sector                                         Informal Sector (Entrepreneurs, Artisans, Trad...   \n",
       "Educational Qualification                                                               First Degree    \n",
       "Religion                                                                                 Christianity   \n",
       "Age range                                                                                       18-30   \n",
       "Are you politically active? This includes eithe...                                                Yes   \n",
       "Do you have political ambitions  or desires to ...                                                Yes   \n",
       "Are you affiliated with any political party?                                                      Yes   \n",
       "What are factors that hinder or have hindered y...                                                NaN   \n",
       "Do you see yourself as unqualified or as a runn...                                                Yes   \n",
       "Discriminatory socio-cultural and religious pra...                                                 No   \n",
       "Too expensive                                                                                     Yes   \n",
       "Unsupportive family including spouse and relati...                                                 No   \n",
       "I think Political parties favor men than women                                                    Yes   \n",
       "Childbearing and consideration for family                                                         Yes   \n",
       "How can mentroship improve this? Tick all that ...                                                NaN   \n",
       "Have you ever received political mentorship ser...                                                 No   \n",
       "Would you love to receive (more) mentorship fro...                                                Yes   \n",
       "Do you think mentorship will (has) improve(d) y...                                                Yes   \n",
       "Do you think mentorship will improve  chances f...                                                Yes   \n",
       "\n",
       "                                                   freq mean  std  min  25%  \\\n",
       "Work Sector                                         129  NaN  NaN  NaN  NaN   \n",
       "Educational Qualification                           110  NaN  NaN  NaN  NaN   \n",
       "Religion                                            106  NaN  NaN  NaN  NaN   \n",
       "Age range                                           109  NaN  NaN  NaN  NaN   \n",
       "Are you politically active? This includes eithe...  212  NaN  NaN  NaN  NaN   \n",
       "Do you have political ambitions  or desires to ...  154  NaN  NaN  NaN  NaN   \n",
       "Are you affiliated with any political party?        137  NaN  NaN  NaN  NaN   \n",
       "What are factors that hinder or have hindered y...  NaN  NaN  NaN  NaN  NaN   \n",
       "Do you see yourself as unqualified or as a runn...  117  NaN  NaN  NaN  NaN   \n",
       "Discriminatory socio-cultural and religious pra...  141  NaN  NaN  NaN  NaN   \n",
       "Too expensive                                       208  NaN  NaN  NaN  NaN   \n",
       "Unsupportive family including spouse and relati...  126  NaN  NaN  NaN  NaN   \n",
       "I think Political parties favor men than women      176  NaN  NaN  NaN  NaN   \n",
       "Childbearing and consideration for family           166  NaN  NaN  NaN  NaN   \n",
       "How can mentroship improve this? Tick all that ...  NaN  NaN  NaN  NaN  NaN   \n",
       "Have you ever received political mentorship ser...  115  NaN  NaN  NaN  NaN   \n",
       "Would you love to receive (more) mentorship fro...  211  NaN  NaN  NaN  NaN   \n",
       "Do you think mentorship will (has) improve(d) y...  192  NaN  NaN  NaN  NaN   \n",
       "Do you think mentorship will improve  chances f...  199  NaN  NaN  NaN  NaN   \n",
       "\n",
       "                                                    50%  75%  max  \n",
       "Work Sector                                         NaN  NaN  NaN  \n",
       "Educational Qualification                           NaN  NaN  NaN  \n",
       "Religion                                            NaN  NaN  NaN  \n",
       "Age range                                           NaN  NaN  NaN  \n",
       "Are you politically active? This includes eithe...  NaN  NaN  NaN  \n",
       "Do you have political ambitions  or desires to ...  NaN  NaN  NaN  \n",
       "Are you affiliated with any political party?        NaN  NaN  NaN  \n",
       "What are factors that hinder or have hindered y...  NaN  NaN  NaN  \n",
       "Do you see yourself as unqualified or as a runn...  NaN  NaN  NaN  \n",
       "Discriminatory socio-cultural and religious pra...  NaN  NaN  NaN  \n",
       "Too expensive                                       NaN  NaN  NaN  \n",
       "Unsupportive family including spouse and relati...  NaN  NaN  NaN  \n",
       "I think Political parties favor men than women      NaN  NaN  NaN  \n",
       "Childbearing and consideration for family           NaN  NaN  NaN  \n",
       "How can mentroship improve this? Tick all that ...  NaN  NaN  NaN  \n",
       "Have you ever received political mentorship ser...  NaN  NaN  NaN  \n",
       "Would you love to receive (more) mentorship fro...  NaN  NaN  NaN  \n",
       "Do you think mentorship will (has) improve(d) y...  NaN  NaN  NaN  \n",
       "Do you think mentorship will improve  chances f...  NaN  NaN  NaN  "
      ]
     },
     "execution_count": 36,
     "metadata": {},
     "output_type": "execute_result"
    }
   ],
   "source": [
    "# let's view the statistical summary of the numerical columns in the data\n",
    "data.describe(include='all').T"
   ]
  },
  {
   "cell_type": "markdown",
   "id": "bf5e4a81",
   "metadata": {
    "id": "bf5e4a81"
   },
   "source": [
    "#### Observations:\n",
    "* Dataset: the data has missiing value\n",
    "* Data type: all column has object has the datatype\n",
    "* Colums: all the columns have categorical values"
   ]
  },
  {
   "cell_type": "code",
   "execution_count": 37,
   "id": "bad0868a",
   "metadata": {},
   "outputs": [
    {
     "ename": "KeyError",
     "evalue": "\"['Unnamed: 7'] not found in axis\"",
     "output_type": "error",
     "traceback": [
      "\u001b[1;31m---------------------------------------------------------------------------\u001b[0m",
      "\u001b[1;31mKeyError\u001b[0m                                  Traceback (most recent call last)",
      "Cell \u001b[1;32mIn[37], line 2\u001b[0m\n\u001b[0;32m      1\u001b[0m \u001b[38;5;66;03m# Timestamp consists of uniques ID for clients and hence will not add value to the modeling\u001b[39;00m\n\u001b[1;32m----> 2\u001b[0m data\u001b[38;5;241m.\u001b[39mdrop([\u001b[38;5;124m\"\u001b[39m\u001b[38;5;124mUnnamed: 7\u001b[39m\u001b[38;5;124m\"\u001b[39m, \u001b[38;5;124m\"\u001b[39m\u001b[38;5;124mWhat are factors that hinder or have hindered your political ambitions? Tick all that apply\u001b[39m\u001b[38;5;124m\"\u001b[39m], axis\u001b[38;5;241m=\u001b[39m\u001b[38;5;241m1\u001b[39m, inplace\u001b[38;5;241m=\u001b[39m\u001b[38;5;28;01mTrue\u001b[39;00m)\n",
      "File \u001b[1;32m~\\AppData\\Roaming\\Python\\Python311\\site-packages\\pandas\\util\\_decorators.py:331\u001b[0m, in \u001b[0;36mdeprecate_nonkeyword_arguments.<locals>.decorate.<locals>.wrapper\u001b[1;34m(*args, **kwargs)\u001b[0m\n\u001b[0;32m    325\u001b[0m \u001b[38;5;28;01mif\u001b[39;00m \u001b[38;5;28mlen\u001b[39m(args) \u001b[38;5;241m>\u001b[39m num_allow_args:\n\u001b[0;32m    326\u001b[0m     warnings\u001b[38;5;241m.\u001b[39mwarn(\n\u001b[0;32m    327\u001b[0m         msg\u001b[38;5;241m.\u001b[39mformat(arguments\u001b[38;5;241m=\u001b[39m_format_argument_list(allow_args)),\n\u001b[0;32m    328\u001b[0m         \u001b[38;5;167;01mFutureWarning\u001b[39;00m,\n\u001b[0;32m    329\u001b[0m         stacklevel\u001b[38;5;241m=\u001b[39mfind_stack_level(),\n\u001b[0;32m    330\u001b[0m     )\n\u001b[1;32m--> 331\u001b[0m \u001b[38;5;28;01mreturn\u001b[39;00m func(\u001b[38;5;241m*\u001b[39margs, \u001b[38;5;241m*\u001b[39m\u001b[38;5;241m*\u001b[39mkwargs)\n",
      "File \u001b[1;32m~\\AppData\\Roaming\\Python\\Python311\\site-packages\\pandas\\core\\frame.py:5399\u001b[0m, in \u001b[0;36mDataFrame.drop\u001b[1;34m(self, labels, axis, index, columns, level, inplace, errors)\u001b[0m\n\u001b[0;32m   5251\u001b[0m \u001b[38;5;129m@deprecate_nonkeyword_arguments\u001b[39m(version\u001b[38;5;241m=\u001b[39m\u001b[38;5;28;01mNone\u001b[39;00m, allowed_args\u001b[38;5;241m=\u001b[39m[\u001b[38;5;124m\"\u001b[39m\u001b[38;5;124mself\u001b[39m\u001b[38;5;124m\"\u001b[39m, \u001b[38;5;124m\"\u001b[39m\u001b[38;5;124mlabels\u001b[39m\u001b[38;5;124m\"\u001b[39m])\n\u001b[0;32m   5252\u001b[0m \u001b[38;5;28;01mdef\u001b[39;00m \u001b[38;5;21mdrop\u001b[39m(  \u001b[38;5;66;03m# type: ignore[override]\u001b[39;00m\n\u001b[0;32m   5253\u001b[0m     \u001b[38;5;28mself\u001b[39m,\n\u001b[1;32m   (...)\u001b[0m\n\u001b[0;32m   5260\u001b[0m     errors: IgnoreRaise \u001b[38;5;241m=\u001b[39m \u001b[38;5;124m\"\u001b[39m\u001b[38;5;124mraise\u001b[39m\u001b[38;5;124m\"\u001b[39m,\n\u001b[0;32m   5261\u001b[0m ) \u001b[38;5;241m-\u001b[39m\u001b[38;5;241m>\u001b[39m DataFrame \u001b[38;5;241m|\u001b[39m \u001b[38;5;28;01mNone\u001b[39;00m:\n\u001b[0;32m   5262\u001b[0m \u001b[38;5;250m    \u001b[39m\u001b[38;5;124;03m\"\"\"\u001b[39;00m\n\u001b[0;32m   5263\u001b[0m \u001b[38;5;124;03m    Drop specified labels from rows or columns.\u001b[39;00m\n\u001b[0;32m   5264\u001b[0m \n\u001b[1;32m   (...)\u001b[0m\n\u001b[0;32m   5397\u001b[0m \u001b[38;5;124;03m            weight  1.0     0.8\u001b[39;00m\n\u001b[0;32m   5398\u001b[0m \u001b[38;5;124;03m    \"\"\"\u001b[39;00m\n\u001b[1;32m-> 5399\u001b[0m     \u001b[38;5;28;01mreturn\u001b[39;00m \u001b[38;5;28msuper\u001b[39m()\u001b[38;5;241m.\u001b[39mdrop(\n\u001b[0;32m   5400\u001b[0m         labels\u001b[38;5;241m=\u001b[39mlabels,\n\u001b[0;32m   5401\u001b[0m         axis\u001b[38;5;241m=\u001b[39maxis,\n\u001b[0;32m   5402\u001b[0m         index\u001b[38;5;241m=\u001b[39mindex,\n\u001b[0;32m   5403\u001b[0m         columns\u001b[38;5;241m=\u001b[39mcolumns,\n\u001b[0;32m   5404\u001b[0m         level\u001b[38;5;241m=\u001b[39mlevel,\n\u001b[0;32m   5405\u001b[0m         inplace\u001b[38;5;241m=\u001b[39minplace,\n\u001b[0;32m   5406\u001b[0m         errors\u001b[38;5;241m=\u001b[39merrors,\n\u001b[0;32m   5407\u001b[0m     )\n",
      "File \u001b[1;32m~\\AppData\\Roaming\\Python\\Python311\\site-packages\\pandas\\util\\_decorators.py:331\u001b[0m, in \u001b[0;36mdeprecate_nonkeyword_arguments.<locals>.decorate.<locals>.wrapper\u001b[1;34m(*args, **kwargs)\u001b[0m\n\u001b[0;32m    325\u001b[0m \u001b[38;5;28;01mif\u001b[39;00m \u001b[38;5;28mlen\u001b[39m(args) \u001b[38;5;241m>\u001b[39m num_allow_args:\n\u001b[0;32m    326\u001b[0m     warnings\u001b[38;5;241m.\u001b[39mwarn(\n\u001b[0;32m    327\u001b[0m         msg\u001b[38;5;241m.\u001b[39mformat(arguments\u001b[38;5;241m=\u001b[39m_format_argument_list(allow_args)),\n\u001b[0;32m    328\u001b[0m         \u001b[38;5;167;01mFutureWarning\u001b[39;00m,\n\u001b[0;32m    329\u001b[0m         stacklevel\u001b[38;5;241m=\u001b[39mfind_stack_level(),\n\u001b[0;32m    330\u001b[0m     )\n\u001b[1;32m--> 331\u001b[0m \u001b[38;5;28;01mreturn\u001b[39;00m func(\u001b[38;5;241m*\u001b[39margs, \u001b[38;5;241m*\u001b[39m\u001b[38;5;241m*\u001b[39mkwargs)\n",
      "File \u001b[1;32m~\\AppData\\Roaming\\Python\\Python311\\site-packages\\pandas\\core\\generic.py:4505\u001b[0m, in \u001b[0;36mNDFrame.drop\u001b[1;34m(self, labels, axis, index, columns, level, inplace, errors)\u001b[0m\n\u001b[0;32m   4503\u001b[0m \u001b[38;5;28;01mfor\u001b[39;00m axis, labels \u001b[38;5;129;01min\u001b[39;00m axes\u001b[38;5;241m.\u001b[39mitems():\n\u001b[0;32m   4504\u001b[0m     \u001b[38;5;28;01mif\u001b[39;00m labels \u001b[38;5;129;01mis\u001b[39;00m \u001b[38;5;129;01mnot\u001b[39;00m \u001b[38;5;28;01mNone\u001b[39;00m:\n\u001b[1;32m-> 4505\u001b[0m         obj \u001b[38;5;241m=\u001b[39m obj\u001b[38;5;241m.\u001b[39m_drop_axis(labels, axis, level\u001b[38;5;241m=\u001b[39mlevel, errors\u001b[38;5;241m=\u001b[39merrors)\n\u001b[0;32m   4507\u001b[0m \u001b[38;5;28;01mif\u001b[39;00m inplace:\n\u001b[0;32m   4508\u001b[0m     \u001b[38;5;28mself\u001b[39m\u001b[38;5;241m.\u001b[39m_update_inplace(obj)\n",
      "File \u001b[1;32m~\\AppData\\Roaming\\Python\\Python311\\site-packages\\pandas\\core\\generic.py:4546\u001b[0m, in \u001b[0;36mNDFrame._drop_axis\u001b[1;34m(self, labels, axis, level, errors, only_slice)\u001b[0m\n\u001b[0;32m   4544\u001b[0m         new_axis \u001b[38;5;241m=\u001b[39m axis\u001b[38;5;241m.\u001b[39mdrop(labels, level\u001b[38;5;241m=\u001b[39mlevel, errors\u001b[38;5;241m=\u001b[39merrors)\n\u001b[0;32m   4545\u001b[0m     \u001b[38;5;28;01melse\u001b[39;00m:\n\u001b[1;32m-> 4546\u001b[0m         new_axis \u001b[38;5;241m=\u001b[39m axis\u001b[38;5;241m.\u001b[39mdrop(labels, errors\u001b[38;5;241m=\u001b[39merrors)\n\u001b[0;32m   4547\u001b[0m     indexer \u001b[38;5;241m=\u001b[39m axis\u001b[38;5;241m.\u001b[39mget_indexer(new_axis)\n\u001b[0;32m   4549\u001b[0m \u001b[38;5;66;03m# Case for non-unique axis\u001b[39;00m\n\u001b[0;32m   4550\u001b[0m \u001b[38;5;28;01melse\u001b[39;00m:\n",
      "File \u001b[1;32m~\\AppData\\Roaming\\Python\\Python311\\site-packages\\pandas\\core\\indexes\\base.py:6934\u001b[0m, in \u001b[0;36mIndex.drop\u001b[1;34m(self, labels, errors)\u001b[0m\n\u001b[0;32m   6932\u001b[0m \u001b[38;5;28;01mif\u001b[39;00m mask\u001b[38;5;241m.\u001b[39many():\n\u001b[0;32m   6933\u001b[0m     \u001b[38;5;28;01mif\u001b[39;00m errors \u001b[38;5;241m!=\u001b[39m \u001b[38;5;124m\"\u001b[39m\u001b[38;5;124mignore\u001b[39m\u001b[38;5;124m\"\u001b[39m:\n\u001b[1;32m-> 6934\u001b[0m         \u001b[38;5;28;01mraise\u001b[39;00m \u001b[38;5;167;01mKeyError\u001b[39;00m(\u001b[38;5;124mf\u001b[39m\u001b[38;5;124m\"\u001b[39m\u001b[38;5;132;01m{\u001b[39;00m\u001b[38;5;28mlist\u001b[39m(labels[mask])\u001b[38;5;132;01m}\u001b[39;00m\u001b[38;5;124m not found in axis\u001b[39m\u001b[38;5;124m\"\u001b[39m)\n\u001b[0;32m   6935\u001b[0m     indexer \u001b[38;5;241m=\u001b[39m indexer[\u001b[38;5;241m~\u001b[39mmask]\n\u001b[0;32m   6936\u001b[0m \u001b[38;5;28;01mreturn\u001b[39;00m \u001b[38;5;28mself\u001b[39m\u001b[38;5;241m.\u001b[39mdelete(indexer)\n",
      "\u001b[1;31mKeyError\u001b[0m: \"['Unnamed: 7'] not found in axis\""
     ]
    }
   ],
   "source": [
    "# Timestamp consists of uniques ID for clients and hence will not add value to the modeling\n",
    "data.drop([\"Unnamed: 7\", \"What are factors that hinder or have hindered your political ambitions? Tick all that apply\"], axis=1, inplace=True)"
   ]
  },
  {
   "cell_type": "code",
   "execution_count": 38,
   "id": "2c87adfc",
   "metadata": {
    "id": "2c87adfc",
    "outputId": "f6b4d94e-6995-463a-c320-dfe7587a76e1",
    "scrolled": false
   },
   "outputs": [
    {
     "name": "stdout",
     "output_type": "stream",
     "text": [
      "Unique values in Work Sector are :\n",
      "Informal Sector (Entrepreneurs, Artisans, Traders, Housewives)    129\n",
      "Formal Sector (9-5 jobs, Professionals, Hybrid jobs)               83\n",
      "Name: Work Sector, dtype: int64\n",
      "**************************************************\n",
      "**************************************************\n",
      "Unique values in Educational Qualification are :\n",
      "First Degree                                 110\n",
      "Postgraduate (M.Sc., PGD. M.Phil, Ph.D.)      45\n",
      "SSCE and below                                36\n",
      "Postgraduate (M.Sc., PGD. M.Phil, Ph.D.)      11\n",
      "ND, NCE                                       10\n",
      "Name: Educational Qualification, dtype: int64\n",
      "**************************************************\n",
      "**************************************************\n",
      "Unique values in Religion are :\n",
      "Christianity    106\n",
      "Islam            95\n",
      "Others           11\n",
      "Name: Religion, dtype: int64\n",
      "**************************************************\n",
      "**************************************************\n",
      "Unique values in Age range are :\n",
      "18-30           109\n",
      "31-49            67\n",
      "51-69            19\n",
      "70 and above     17\n",
      "Name: Age range, dtype: int64\n",
      "**************************************************\n",
      "**************************************************\n",
      "Unique values in Are you politically active? This includes either of attending rallies, campaigns, or exercising voter franchise. are :\n",
      "Yes    212\n",
      "Name: Are you politically active? This includes either of attending rallies, campaigns, or exercising voter franchise., dtype: int64\n",
      "**************************************************\n",
      "**************************************************\n",
      "Unique values in Do you have political ambitions  or desires to hold electoral offices? are :\n",
      "Yes    154\n",
      "No      58\n",
      "Name: Do you have political ambitions  or desires to hold electoral offices?, dtype: int64\n",
      "**************************************************\n",
      "**************************************************\n",
      "Unique values in Are you affiliated with any political party? are :\n",
      "Yes    137\n",
      "No      75\n",
      "Name: Are you affiliated with any political party?, dtype: int64\n",
      "**************************************************\n",
      "**************************************************\n",
      "Unique values in Do you see yourself as unqualified or as a running mate are :\n",
      "Yes    117\n",
      "No      95\n",
      "Name: Do you see yourself as unqualified or as a running mate, dtype: int64\n",
      "**************************************************\n",
      "**************************************************\n",
      "Unique values in Discriminatory socio-cultural and religious practice. are :\n",
      "No     141\n",
      "Yes     71\n",
      "Name: Discriminatory socio-cultural and religious practice., dtype: int64\n",
      "**************************************************\n",
      "**************************************************\n",
      "Unique values in Too expensive are :\n",
      "Yes     208\n",
      "No        3\n",
      "Yes       1\n",
      "Name: Too expensive, dtype: int64\n",
      "**************************************************\n",
      "**************************************************\n",
      "Unique values in Unsupportive family including spouse and relatives  are :\n",
      "No     126\n",
      "Yes     86\n",
      "Name: Unsupportive family including spouse and relatives , dtype: int64\n",
      "**************************************************\n",
      "**************************************************\n",
      "Unique values in I think Political parties favor men than women are :\n",
      "Yes    176\n",
      "No      36\n",
      "Name: I think Political parties favor men than women, dtype: int64\n",
      "**************************************************\n",
      "**************************************************\n",
      "Unique values in Childbearing and consideration for family  are :\n",
      "Yes    166\n",
      "No      46\n",
      "Name: Childbearing and consideration for family , dtype: int64\n",
      "**************************************************\n",
      "**************************************************\n",
      "Unique values in Have you ever received political mentorship services from politicians or godfathers, NGOs? are :\n",
      "No     115\n",
      "Yes     97\n",
      "Name: Have you ever received political mentorship services from politicians or godfathers, NGOs?, dtype: int64\n",
      "**************************************************\n",
      "**************************************************\n",
      "Unique values in Would you love to receive (more) mentorship from a male or female politician? are :\n",
      "Yes    211\n",
      "No       1\n",
      "Name: Would you love to receive (more) mentorship from a male or female politician?, dtype: int64\n",
      "**************************************************\n",
      "**************************************************\n",
      "Unique values in Do you think mentorship will (has) improve(d) your decisions to contest political positions? are :\n",
      "Yes    192\n",
      "No      20\n",
      "Name: Do you think mentorship will (has) improve(d) your decisions to contest political positions?, dtype: int64\n",
      "**************************************************\n",
      "**************************************************\n",
      "Unique values in Do you think mentorship will improve  chances for more females attaining political office? are :\n",
      "Yes    199\n",
      "No      13\n",
      "Name: Do you think mentorship will improve  chances for more females attaining political office?, dtype: int64\n",
      "**************************************************\n",
      "**************************************************\n"
     ]
    }
   ],
   "source": [
    "for i in data.describe(include=[\"object\"]).columns:\n",
    "    print(\"Unique values in\", i, \"are :\")\n",
    "    print(data[i].value_counts())\n",
    "    print(\"*\" * 50)\n",
    "    print(\"*\" * 50)"
   ]
  },
  {
   "cell_type": "markdown",
   "id": "a35eb216",
   "metadata": {
    "id": "a35eb216"
   },
   "source": [
    "**Observation**\n",
    "* there is no missing value"
   ]
  },
  {
   "cell_type": "markdown",
   "id": "6921499c",
   "metadata": {
    "id": "j-yGG8LNSSMa"
   },
   "source": [
    "## Exploratory Data Analysis (EDA)"
   ]
  },
  {
   "cell_type": "markdown",
   "id": "392328f8",
   "metadata": {
    "id": "3bGVKmh75ri8"
   },
   "source": [
    "- EDA is an important part of this project inorder to reveal hidden information from the data.\n",
    "- It is important to investigate and understand the data better before building a model with it."
   ]
  },
  {
   "cell_type": "markdown",
   "id": "ea061356",
   "metadata": {
    "id": "oEyqzdJBb0jU"
   },
   "source": [
    "**Some of the Questions Answered through the EDA**:\n",
    "\n",
    "1. How is the gender distributed?\n",
    "2. What is the distribution of the Educational Qualification?\n",
    "3. What is the distribution of the permanent voters card?\n",
    "4. How does the change in likelyhood to vote when there is electoral violence vary by the gender\n",
    "5. How does the witness of any form of electoral violence during elections vary by the gender\n",
    "6. How does the witnessing any form of harassment on social media vary by the gender\n",
    "7. What are the attributes that have a strong correlation with each other?\n",
    "\n"
   ]
  },
  {
   "cell_type": "markdown",
   "id": "1dc3b68a",
   "metadata": {
    "id": "1dc3b68a"
   },
   "source": [
    "### Univariate analysis"
   ]
  },
  {
   "cell_type": "code",
   "execution_count": 39,
   "id": "d3bc33c9",
   "metadata": {
    "id": "d3bc33c9",
    "outputId": "1ff3c809-83ce-4125-fd39-d83b687100ca"
   },
   "outputs": [],
   "source": [
    "# function to plot a boxplot and a histogram along the same scale.\n",
    "\n",
    "\n",
    "def histogram_boxplot(data, feature, figsize=(12, 7), kde=False, bins=None):\n",
    "    \"\"\"\n",
    "    Boxplot and histogram combined\n",
    "\n",
    "    data: dataframe\n",
    "    feature: dataframe column\n",
    "    figsize: size of figure (default (12,7))\n",
    "    kde: whether to the show density curve (default False)\n",
    "    bins: number of bins for histogram (default None)\n",
    "    \"\"\"\n",
    "    f2, (ax_box2, ax_hist2) = plt.subplots(\n",
    "        nrows=2,  # Number of rows of the subplot grid= 2\n",
    "        sharex=True,  # x-axis will be shared among all subplots\n",
    "        gridspec_kw={\"height_ratios\": (0.25, 0.75)},\n",
    "        figsize=figsize,\n",
    "    )  # creating the 2 subplots\n",
    "    sns.boxplot(\n",
    "        data=data, x=feature, ax=ax_box2, showmeans=True, color=\"violet\"\n",
    "    )  # boxplot will be created and a star will indicate the mean value of the column\n",
    "    sns.histplot(\n",
    "        data=data, x=feature, kde=kde, ax=ax_hist2, bins=bins, palette=\"winter\"\n",
    "    ) if bins else sns.histplot(\n",
    "        data=data, x=feature, kde=kde, ax=ax_hist2\n",
    "    )  # For histogram\n",
    "#     ax_hist2.axvline(\n",
    "#         data[feature].mean(), color=\"green\", linestyle=\"--\"\n",
    "#     )  # Add mean to the histogram\n",
    "#     ax_hist2.axvline(\n",
    "#         data[feature].median(), color=\"black\", linestyle=\"-\"\n",
    "#     )  # Add median to the histogram"
   ]
  },
  {
   "cell_type": "markdown",
   "id": "3ca6494b",
   "metadata": {
    "id": "3ca6494b"
   },
   "source": [
    "### Observations on Work Sector"
   ]
  },
  {
   "cell_type": "code",
   "execution_count": 40,
   "id": "e81f2d9b",
   "metadata": {
    "id": "e81f2d9b",
    "outputId": "783864ae-c1eb-4819-f045-88714539a1ed"
   },
   "outputs": [
    {
     "data": {
      "image/png": "[encoded data removed]",
      "text/plain": [
       "<Figure size 1200x700 with 2 Axes>"
      ]
     },
     "metadata": {},
     "output_type": "display_data"
    }
   ],
   "source": [
    "histogram_boxplot(data, \"Work Sector\")"
   ]
  },
  {
   "cell_type": "markdown",
   "id": "0c4c6360",
   "metadata": {
    "id": "0c4c6360"
   },
   "source": [
    "**Observation**\n",
    "* Most of the respondent work in formal sector. That is the respondent is either works, \n",
    "    1. on a 9:00AM to 5:00Pm schedule or \n",
    "    2. as a professionals\n",
    "    3. on jobs with hybrid mode \n",
    "* Few Informal sectors (such as Artisans and Traders) responded."
   ]
  },
  {
   "cell_type": "markdown",
   "id": "9d06764f",
   "metadata": {
    "id": "9d06764f"
   },
   "source": [
    "### Observations on Educational Qualification"
   ]
  },
  {
   "cell_type": "code",
   "execution_count": 41,
   "id": "cac5108b",
   "metadata": {
    "id": "cac5108b",
    "outputId": "f7997b40-025a-47a5-8b4c-96ce2367fd83"
   },
   "outputs": [
    {
     "data": {
      "image/png": "[encoded data removed]",
      "text/plain": [
       "<Figure size 1200x700 with 2 Axes>"
      ]
     },
     "metadata": {},
     "output_type": "display_data"
    }
   ],
   "source": [
    "histogram_boxplot(data, \"Educational Qualification\")"
   ]
  },
  {
   "cell_type": "markdown",
   "id": "9dd39b0c",
   "metadata": {
    "id": "9dd39b0c"
   },
   "source": [
    "**Observation** \n",
    "* More than 400 respondent holds HND or BSC Degree.\n",
    "* Less than 200 respondent hold postgraduate degree.\n",
    "* The respondent with ND or NCE or MBBS in View or BTech or Undergraduate are all less than 100."
   ]
  },
  {
   "cell_type": "markdown",
   "id": "a8326f8c",
   "metadata": {
    "id": "a8326f8c"
   },
   "source": [
    "### Observations on Age Range"
   ]
  },
  {
   "cell_type": "code",
   "execution_count": 42,
   "id": "7bb1ed06",
   "metadata": {
    "id": "7bb1ed06",
    "outputId": "2b153822-999c-4a03-b193-1a4a6453a0b3"
   },
   "outputs": [
    {
     "data": {
      "image/png": "[encoded data removed]",
      "text/plain": [
       "<Figure size 1200x700 with 2 Axes>"
      ]
     },
     "metadata": {},
     "output_type": "display_data"
    }
   ],
   "source": [
    "histogram_boxplot(data, \"Age range\")"
   ]
  },
  {
   "cell_type": "markdown",
   "id": "9e10273a",
   "metadata": {
    "id": "9e10273a"
   },
   "source": [
    "* 18-30 is the age range with the highest numebr of respondent follow by 31-40.\n",
    "* 41-50 is the age range with the lowest number of respondent."
   ]
  },
  {
   "cell_type": "markdown",
   "id": "d2c4c61c",
   "metadata": {
    "id": "d2c4c61c"
   },
   "source": [
    "### Observations on 'Respondent with permanent voters card?'"
   ]
  },
  {
   "cell_type": "code",
   "execution_count": 43,
   "id": "765c5078",
   "metadata": {
    "id": "765c5078",
    "outputId": "c42cd8a8-40ba-47a0-e61e-174223b08ac0"
   },
   "outputs": [
    {
     "data": {
      "image/png": "[encoded data removed]",
      "text/plain": [
       "<Figure size 1200x700 with 2 Axes>"
      ]
     },
     "metadata": {},
     "output_type": "display_data"
    }
   ],
   "source": [
    "histogram_boxplot(data, \"Religion\")"
   ]
  },
  {
   "cell_type": "markdown",
   "id": "1b880193",
   "metadata": {
    "id": "1b880193"
   },
   "source": [
    "**Observation**\n",
    "* About 70% of the respondent have permanent voters card "
   ]
  },
  {
   "cell_type": "markdown",
   "id": "a73589a3",
   "metadata": {
    "id": "a73589a3"
   },
   "source": [
    "### Observations on <i>Respondent that are likely to vote when there is electoral violence around you</i>?"
   ]
  },
  {
   "cell_type": "code",
   "execution_count": 44,
   "id": "dcfc26ff",
   "metadata": {
    "id": "dcfc26ff",
    "outputId": "047a3915-2988-4b64-df1c-7dec2f0c4a5b"
   },
   "outputs": [
    {
     "ename": "ValueError",
     "evalue": "Could not interpret value `Are you likely to vote when there is electoral violence around you?` for `x`. An entry with this name does not appear in `data`.",
     "output_type": "error",
     "traceback": [
      "\u001b[1;31m---------------------------------------------------------------------------\u001b[0m",
      "\u001b[1;31mValueError\u001b[0m                                Traceback (most recent call last)",
      "Cell \u001b[1;32mIn[44], line 1\u001b[0m\n\u001b[1;32m----> 1\u001b[0m histogram_boxplot(data, \u001b[38;5;124m\"\u001b[39m\u001b[38;5;124mAre you likely to vote when there is electoral violence around you?\u001b[39m\u001b[38;5;124m\"\u001b[39m)\n",
      "Cell \u001b[1;32mIn[39], line 20\u001b[0m, in \u001b[0;36mhistogram_boxplot\u001b[1;34m(data, feature, figsize, kde, bins)\u001b[0m\n\u001b[0;32m      5\u001b[0m \u001b[38;5;250m\u001b[39m\u001b[38;5;124;03m\"\"\"\u001b[39;00m\n\u001b[0;32m      6\u001b[0m \u001b[38;5;124;03mBoxplot and histogram combined\u001b[39;00m\n\u001b[0;32m      7\u001b[0m \n\u001b[1;32m   (...)\u001b[0m\n\u001b[0;32m     12\u001b[0m \u001b[38;5;124;03mbins: number of bins for histogram (default None)\u001b[39;00m\n\u001b[0;32m     13\u001b[0m \u001b[38;5;124;03m\"\"\"\u001b[39;00m\n\u001b[0;32m     14\u001b[0m f2, (ax_box2, ax_hist2) \u001b[38;5;241m=\u001b[39m plt\u001b[38;5;241m.\u001b[39msubplots(\n\u001b[0;32m     15\u001b[0m     nrows\u001b[38;5;241m=\u001b[39m\u001b[38;5;241m2\u001b[39m,  \u001b[38;5;66;03m# Number of rows of the subplot grid= 2\u001b[39;00m\n\u001b[0;32m     16\u001b[0m     sharex\u001b[38;5;241m=\u001b[39m\u001b[38;5;28;01mTrue\u001b[39;00m,  \u001b[38;5;66;03m# x-axis will be shared among all subplots\u001b[39;00m\n\u001b[0;32m     17\u001b[0m     gridspec_kw\u001b[38;5;241m=\u001b[39m{\u001b[38;5;124m\"\u001b[39m\u001b[38;5;124mheight_ratios\u001b[39m\u001b[38;5;124m\"\u001b[39m: (\u001b[38;5;241m0.25\u001b[39m, \u001b[38;5;241m0.75\u001b[39m)},\n\u001b[0;32m     18\u001b[0m     figsize\u001b[38;5;241m=\u001b[39mfigsize,\n\u001b[0;32m     19\u001b[0m )  \u001b[38;5;66;03m# creating the 2 subplots\u001b[39;00m\n\u001b[1;32m---> 20\u001b[0m sns\u001b[38;5;241m.\u001b[39mboxplot(\n\u001b[0;32m     21\u001b[0m     data\u001b[38;5;241m=\u001b[39mdata, x\u001b[38;5;241m=\u001b[39mfeature, ax\u001b[38;5;241m=\u001b[39max_box2, showmeans\u001b[38;5;241m=\u001b[39m\u001b[38;5;28;01mTrue\u001b[39;00m, color\u001b[38;5;241m=\u001b[39m\u001b[38;5;124m\"\u001b[39m\u001b[38;5;124mviolet\u001b[39m\u001b[38;5;124m\"\u001b[39m\n\u001b[0;32m     22\u001b[0m )  \u001b[38;5;66;03m# boxplot will be created and a star will indicate the mean value of the column\u001b[39;00m\n\u001b[0;32m     23\u001b[0m sns\u001b[38;5;241m.\u001b[39mhistplot(\n\u001b[0;32m     24\u001b[0m     data\u001b[38;5;241m=\u001b[39mdata, x\u001b[38;5;241m=\u001b[39mfeature, kde\u001b[38;5;241m=\u001b[39mkde, ax\u001b[38;5;241m=\u001b[39max_hist2, bins\u001b[38;5;241m=\u001b[39mbins, palette\u001b[38;5;241m=\u001b[39m\u001b[38;5;124m\"\u001b[39m\u001b[38;5;124mwinter\u001b[39m\u001b[38;5;124m\"\u001b[39m\n\u001b[0;32m     25\u001b[0m ) \u001b[38;5;28;01mif\u001b[39;00m bins \u001b[38;5;28;01melse\u001b[39;00m sns\u001b[38;5;241m.\u001b[39mhistplot(\n\u001b[0;32m     26\u001b[0m     data\u001b[38;5;241m=\u001b[39mdata, x\u001b[38;5;241m=\u001b[39mfeature, kde\u001b[38;5;241m=\u001b[39mkde, ax\u001b[38;5;241m=\u001b[39max_hist2\n\u001b[0;32m     27\u001b[0m )\n",
      "File \u001b[1;32m~\\AppData\\Roaming\\Python\\Python311\\site-packages\\seaborn\\categorical.py:1596\u001b[0m, in \u001b[0;36mboxplot\u001b[1;34m(data, x, y, hue, order, hue_order, orient, color, palette, saturation, fill, dodge, width, gap, whis, linecolor, linewidth, fliersize, hue_norm, native_scale, log_scale, formatter, legend, ax, **kwargs)\u001b[0m\n\u001b[0;32m   1588\u001b[0m \u001b[38;5;28;01mdef\u001b[39;00m \u001b[38;5;21mboxplot\u001b[39m(\n\u001b[0;32m   1589\u001b[0m     data\u001b[38;5;241m=\u001b[39m\u001b[38;5;28;01mNone\u001b[39;00m, \u001b[38;5;241m*\u001b[39m, x\u001b[38;5;241m=\u001b[39m\u001b[38;5;28;01mNone\u001b[39;00m, y\u001b[38;5;241m=\u001b[39m\u001b[38;5;28;01mNone\u001b[39;00m, hue\u001b[38;5;241m=\u001b[39m\u001b[38;5;28;01mNone\u001b[39;00m, order\u001b[38;5;241m=\u001b[39m\u001b[38;5;28;01mNone\u001b[39;00m, hue_order\u001b[38;5;241m=\u001b[39m\u001b[38;5;28;01mNone\u001b[39;00m,\n\u001b[0;32m   1590\u001b[0m     orient\u001b[38;5;241m=\u001b[39m\u001b[38;5;28;01mNone\u001b[39;00m, color\u001b[38;5;241m=\u001b[39m\u001b[38;5;28;01mNone\u001b[39;00m, palette\u001b[38;5;241m=\u001b[39m\u001b[38;5;28;01mNone\u001b[39;00m, saturation\u001b[38;5;241m=\u001b[39m\u001b[38;5;241m.75\u001b[39m, fill\u001b[38;5;241m=\u001b[39m\u001b[38;5;28;01mTrue\u001b[39;00m,\n\u001b[1;32m   (...)\u001b[0m\n\u001b[0;32m   1593\u001b[0m     legend\u001b[38;5;241m=\u001b[39m\u001b[38;5;124m\"\u001b[39m\u001b[38;5;124mauto\u001b[39m\u001b[38;5;124m\"\u001b[39m, ax\u001b[38;5;241m=\u001b[39m\u001b[38;5;28;01mNone\u001b[39;00m, \u001b[38;5;241m*\u001b[39m\u001b[38;5;241m*\u001b[39mkwargs\n\u001b[0;32m   1594\u001b[0m ):\n\u001b[1;32m-> 1596\u001b[0m     p \u001b[38;5;241m=\u001b[39m _CategoricalPlotter(\n\u001b[0;32m   1597\u001b[0m         data\u001b[38;5;241m=\u001b[39mdata,\n\u001b[0;32m   1598\u001b[0m         variables\u001b[38;5;241m=\u001b[39m\u001b[38;5;28mdict\u001b[39m(x\u001b[38;5;241m=\u001b[39mx, y\u001b[38;5;241m=\u001b[39my, hue\u001b[38;5;241m=\u001b[39mhue),\n\u001b[0;32m   1599\u001b[0m         order\u001b[38;5;241m=\u001b[39morder,\n\u001b[0;32m   1600\u001b[0m         orient\u001b[38;5;241m=\u001b[39morient,\n\u001b[0;32m   1601\u001b[0m         color\u001b[38;5;241m=\u001b[39mcolor,\n\u001b[0;32m   1602\u001b[0m         legend\u001b[38;5;241m=\u001b[39mlegend,\n\u001b[0;32m   1603\u001b[0m     )\n\u001b[0;32m   1605\u001b[0m     \u001b[38;5;28;01mif\u001b[39;00m ax \u001b[38;5;129;01mis\u001b[39;00m \u001b[38;5;28;01mNone\u001b[39;00m:\n\u001b[0;32m   1606\u001b[0m         ax \u001b[38;5;241m=\u001b[39m plt\u001b[38;5;241m.\u001b[39mgca()\n",
      "File \u001b[1;32m~\\AppData\\Roaming\\Python\\Python311\\site-packages\\seaborn\\categorical.py:66\u001b[0m, in \u001b[0;36m_CategoricalPlotter.__init__\u001b[1;34m(self, data, variables, order, orient, require_numeric, color, legend)\u001b[0m\n\u001b[0;32m     55\u001b[0m \u001b[38;5;28;01mdef\u001b[39;00m \u001b[38;5;21m__init__\u001b[39m(\n\u001b[0;32m     56\u001b[0m     \u001b[38;5;28mself\u001b[39m,\n\u001b[0;32m     57\u001b[0m     data\u001b[38;5;241m=\u001b[39m\u001b[38;5;28;01mNone\u001b[39;00m,\n\u001b[1;32m   (...)\u001b[0m\n\u001b[0;32m     63\u001b[0m     legend\u001b[38;5;241m=\u001b[39m\u001b[38;5;124m\"\u001b[39m\u001b[38;5;124mauto\u001b[39m\u001b[38;5;124m\"\u001b[39m,\n\u001b[0;32m     64\u001b[0m ):\n\u001b[1;32m---> 66\u001b[0m     \u001b[38;5;28msuper\u001b[39m()\u001b[38;5;241m.\u001b[39m\u001b[38;5;21m__init__\u001b[39m(data\u001b[38;5;241m=\u001b[39mdata, variables\u001b[38;5;241m=\u001b[39mvariables)\n\u001b[0;32m     68\u001b[0m     \u001b[38;5;66;03m# This method takes care of some bookkeeping that is necessary because the\u001b[39;00m\n\u001b[0;32m     69\u001b[0m     \u001b[38;5;66;03m# original categorical plots (prior to the 2021 refactor) had some rules that\u001b[39;00m\n\u001b[0;32m     70\u001b[0m     \u001b[38;5;66;03m# don't fit exactly into VectorPlotter logic. It may be wise to have a second\u001b[39;00m\n\u001b[1;32m   (...)\u001b[0m\n\u001b[0;32m     75\u001b[0m     \u001b[38;5;66;03m# default VectorPlotter rules. If we do decide to make orient part of the\u001b[39;00m\n\u001b[0;32m     76\u001b[0m     \u001b[38;5;66;03m# _base variable assignment, we'll want to figure out how to express that.\u001b[39;00m\n\u001b[0;32m     77\u001b[0m     \u001b[38;5;28;01mif\u001b[39;00m \u001b[38;5;28mself\u001b[39m\u001b[38;5;241m.\u001b[39minput_format \u001b[38;5;241m==\u001b[39m \u001b[38;5;124m\"\u001b[39m\u001b[38;5;124mwide\u001b[39m\u001b[38;5;124m\"\u001b[39m \u001b[38;5;129;01mand\u001b[39;00m orient \u001b[38;5;129;01min\u001b[39;00m [\u001b[38;5;124m\"\u001b[39m\u001b[38;5;124mh\u001b[39m\u001b[38;5;124m\"\u001b[39m, \u001b[38;5;124m\"\u001b[39m\u001b[38;5;124my\u001b[39m\u001b[38;5;124m\"\u001b[39m]:\n",
      "File \u001b[1;32m~\\AppData\\Roaming\\Python\\Python311\\site-packages\\seaborn\\_base.py:634\u001b[0m, in \u001b[0;36mVectorPlotter.__init__\u001b[1;34m(self, data, variables)\u001b[0m\n\u001b[0;32m    629\u001b[0m \u001b[38;5;66;03m# var_ordered is relevant only for categorical axis variables, and may\u001b[39;00m\n\u001b[0;32m    630\u001b[0m \u001b[38;5;66;03m# be better handled by an internal axis information object that tracks\u001b[39;00m\n\u001b[0;32m    631\u001b[0m \u001b[38;5;66;03m# such information and is set up by the scale_* methods. The analogous\u001b[39;00m\n\u001b[0;32m    632\u001b[0m \u001b[38;5;66;03m# information for numeric axes would be information about log scales.\u001b[39;00m\n\u001b[0;32m    633\u001b[0m \u001b[38;5;28mself\u001b[39m\u001b[38;5;241m.\u001b[39m_var_ordered \u001b[38;5;241m=\u001b[39m {\u001b[38;5;124m\"\u001b[39m\u001b[38;5;124mx\u001b[39m\u001b[38;5;124m\"\u001b[39m: \u001b[38;5;28;01mFalse\u001b[39;00m, \u001b[38;5;124m\"\u001b[39m\u001b[38;5;124my\u001b[39m\u001b[38;5;124m\"\u001b[39m: \u001b[38;5;28;01mFalse\u001b[39;00m}  \u001b[38;5;66;03m# alt., used DefaultDict\u001b[39;00m\n\u001b[1;32m--> 634\u001b[0m \u001b[38;5;28mself\u001b[39m\u001b[38;5;241m.\u001b[39massign_variables(data, variables)\n\u001b[0;32m    636\u001b[0m \u001b[38;5;66;03m# TODO Lots of tests assume that these are called to initialize the\u001b[39;00m\n\u001b[0;32m    637\u001b[0m \u001b[38;5;66;03m# mappings to default values on class initialization. I'd prefer to\u001b[39;00m\n\u001b[0;32m    638\u001b[0m \u001b[38;5;66;03m# move away from that and only have a mapping when explicitly called.\u001b[39;00m\n\u001b[0;32m    639\u001b[0m \u001b[38;5;28;01mfor\u001b[39;00m var \u001b[38;5;129;01min\u001b[39;00m [\u001b[38;5;124m\"\u001b[39m\u001b[38;5;124mhue\u001b[39m\u001b[38;5;124m\"\u001b[39m, \u001b[38;5;124m\"\u001b[39m\u001b[38;5;124msize\u001b[39m\u001b[38;5;124m\"\u001b[39m, \u001b[38;5;124m\"\u001b[39m\u001b[38;5;124mstyle\u001b[39m\u001b[38;5;124m\"\u001b[39m]:\n",
      "File \u001b[1;32m~\\AppData\\Roaming\\Python\\Python311\\site-packages\\seaborn\\_base.py:679\u001b[0m, in \u001b[0;36mVectorPlotter.assign_variables\u001b[1;34m(self, data, variables)\u001b[0m\n\u001b[0;32m    674\u001b[0m \u001b[38;5;28;01melse\u001b[39;00m:\n\u001b[0;32m    675\u001b[0m     \u001b[38;5;66;03m# When dealing with long-form input, use the newer PlotData\u001b[39;00m\n\u001b[0;32m    676\u001b[0m     \u001b[38;5;66;03m# object (internal but introduced for the objects interface)\u001b[39;00m\n\u001b[0;32m    677\u001b[0m     \u001b[38;5;66;03m# to centralize / standardize data consumption logic.\u001b[39;00m\n\u001b[0;32m    678\u001b[0m     \u001b[38;5;28mself\u001b[39m\u001b[38;5;241m.\u001b[39minput_format \u001b[38;5;241m=\u001b[39m \u001b[38;5;124m\"\u001b[39m\u001b[38;5;124mlong\u001b[39m\u001b[38;5;124m\"\u001b[39m\n\u001b[1;32m--> 679\u001b[0m     plot_data \u001b[38;5;241m=\u001b[39m PlotData(data, variables)\n\u001b[0;32m    680\u001b[0m     frame \u001b[38;5;241m=\u001b[39m plot_data\u001b[38;5;241m.\u001b[39mframe\n\u001b[0;32m    681\u001b[0m     names \u001b[38;5;241m=\u001b[39m plot_data\u001b[38;5;241m.\u001b[39mnames\n",
      "File \u001b[1;32m~\\AppData\\Roaming\\Python\\Python311\\site-packages\\seaborn\\_core\\data.py:58\u001b[0m, in \u001b[0;36mPlotData.__init__\u001b[1;34m(self, data, variables)\u001b[0m\n\u001b[0;32m     51\u001b[0m \u001b[38;5;28;01mdef\u001b[39;00m \u001b[38;5;21m__init__\u001b[39m(\n\u001b[0;32m     52\u001b[0m     \u001b[38;5;28mself\u001b[39m,\n\u001b[0;32m     53\u001b[0m     data: DataSource,\n\u001b[0;32m     54\u001b[0m     variables: \u001b[38;5;28mdict\u001b[39m[\u001b[38;5;28mstr\u001b[39m, VariableSpec],\n\u001b[0;32m     55\u001b[0m ):\n\u001b[0;32m     57\u001b[0m     data \u001b[38;5;241m=\u001b[39m handle_data_source(data)\n\u001b[1;32m---> 58\u001b[0m     frame, names, ids \u001b[38;5;241m=\u001b[39m \u001b[38;5;28mself\u001b[39m\u001b[38;5;241m.\u001b[39m_assign_variables(data, variables)\n\u001b[0;32m     60\u001b[0m     \u001b[38;5;28mself\u001b[39m\u001b[38;5;241m.\u001b[39mframe \u001b[38;5;241m=\u001b[39m frame\n\u001b[0;32m     61\u001b[0m     \u001b[38;5;28mself\u001b[39m\u001b[38;5;241m.\u001b[39mnames \u001b[38;5;241m=\u001b[39m names\n",
      "File \u001b[1;32m~\\AppData\\Roaming\\Python\\Python311\\site-packages\\seaborn\\_core\\data.py:232\u001b[0m, in \u001b[0;36mPlotData._assign_variables\u001b[1;34m(self, data, variables)\u001b[0m\n\u001b[0;32m    230\u001b[0m     \u001b[38;5;28;01melse\u001b[39;00m:\n\u001b[0;32m    231\u001b[0m         err \u001b[38;5;241m+\u001b[39m\u001b[38;5;241m=\u001b[39m \u001b[38;5;124m\"\u001b[39m\u001b[38;5;124mAn entry with this name does not appear in `data`.\u001b[39m\u001b[38;5;124m\"\u001b[39m\n\u001b[1;32m--> 232\u001b[0m     \u001b[38;5;28;01mraise\u001b[39;00m \u001b[38;5;167;01mValueError\u001b[39;00m(err)\n\u001b[0;32m    234\u001b[0m \u001b[38;5;28;01melse\u001b[39;00m:\n\u001b[0;32m    235\u001b[0m \n\u001b[0;32m    236\u001b[0m     \u001b[38;5;66;03m# Otherwise, assume the value somehow represents data\u001b[39;00m\n\u001b[0;32m    237\u001b[0m \n\u001b[0;32m    238\u001b[0m     \u001b[38;5;66;03m# Ignore empty data structures\u001b[39;00m\n\u001b[0;32m    239\u001b[0m     \u001b[38;5;28;01mif\u001b[39;00m \u001b[38;5;28misinstance\u001b[39m(val, Sized) \u001b[38;5;129;01mand\u001b[39;00m \u001b[38;5;28mlen\u001b[39m(val) \u001b[38;5;241m==\u001b[39m \u001b[38;5;241m0\u001b[39m:\n",
      "\u001b[1;31mValueError\u001b[0m: Could not interpret value `Are you likely to vote when there is electoral violence around you?` for `x`. An entry with this name does not appear in `data`."
     ]
    },
    {
     "data": {
      "image/png": "[encoded data removed]",
      "text/plain": [
       "<Figure size 1200x700 with 2 Axes>"
      ]
     },
     "metadata": {},
     "output_type": "display_data"
    }
   ],
   "source": [
    "histogram_boxplot(data, \"Are you likely to vote when there is electoral violence around you?\")"
   ]
  },
  {
   "cell_type": "markdown",
   "id": "ea7eb05e",
   "metadata": {
    "id": "ea7eb05e"
   },
   "source": [
    "**Observation**\n",
    "* around 80% of the respondent are not likely to vote when there is electoral violence around. "
   ]
  },
  {
   "cell_type": "markdown",
   "id": "27cd3efb",
   "metadata": {
    "id": "27cd3efb"
   },
   "source": [
    "### Observations on <i>Respondent that are likely to prevent a \"female\" loved one from going to vote after violence occurs</i>?"
   ]
  },
  {
   "cell_type": "code",
   "execution_count": null,
   "id": "c3857afa",
   "metadata": {
    "id": "c3857afa",
    "outputId": "07aa53ef-7611-4b02-84fb-07f2d7e81782"
   },
   "outputs": [],
   "source": [
    "histogram_boxplot(data, 'Are you likely to prevent a \"female\" loved one from going to vote after violence occurs?')"
   ]
  },
  {
   "cell_type": "markdown",
   "id": "59909eca",
   "metadata": {
    "id": "59909eca"
   },
   "source": [
    "**Observation**\n",
    "* 90% of the respondent indicate that they will prevent female loved ones from going to vote after violence occurs."
   ]
  },
  {
   "cell_type": "markdown",
   "id": "c5785044",
   "metadata": {
    "id": "c5785044"
   },
   "source": [
    "### Observations on Respondent that believe that violence deters women from participating in political activities such as rallies, elections, and campaigns?"
   ]
  },
  {
   "cell_type": "code",
   "execution_count": null,
   "id": "73379efd",
   "metadata": {
    "id": "73379efd",
    "outputId": "43d6d763-500b-4aeb-c138-8d194b6a5f0b"
   },
   "outputs": [],
   "source": [
    "histogram_boxplot(data, \"Do you believe that violence deters women from participating in political activities such as rallies, elections, and campaigns?\")"
   ]
  },
  {
   "cell_type": "markdown",
   "id": "f59d7f9e",
   "metadata": {
    "id": "f59d7f9e"
   },
   "source": [
    "**Observation**\n",
    "* Majority of the respondent believe that violenve deters women/female from participating in polical activities such as rallies, elections and campaigns"
   ]
  },
  {
   "cell_type": "markdown",
   "id": "e466b3fa",
   "metadata": {
    "id": "e466b3fa"
   },
   "source": [
    "### Observations on Respondent who have the opinoin that violence impact the confidence of women in engaging in political activities?"
   ]
  },
  {
   "cell_type": "code",
   "execution_count": null,
   "id": "23ea0658",
   "metadata": {
    "id": "23ea0658",
    "outputId": "b2dd4e60-edd6-452a-edcc-8da3cff04631"
   },
   "outputs": [],
   "source": [
    "histogram_boxplot(data, \"In your opinion, does violence impact the confidence of women in engaging in political activities?\")"
   ]
  },
  {
   "cell_type": "markdown",
   "id": "e3403265",
   "metadata": {
    "id": "e3403265"
   },
   "source": [
    "**Observation**\n",
    "* Majority of the respondent beleive violence impact the confidence of women in engaging in political activities"
   ]
  },
  {
   "cell_type": "markdown",
   "id": "4fd578a1",
   "metadata": {
    "id": "4fd578a1"
   },
   "source": [
    "### Observations on Respondent that vote in 2023 General Elections?"
   ]
  },
  {
   "cell_type": "code",
   "execution_count": null,
   "id": "3f429b86",
   "metadata": {
    "id": "3f429b86",
    "outputId": "a54dfeaf-4d58-4327-b208-7c564452b08f"
   },
   "outputs": [],
   "source": [
    "histogram_boxplot(data, \"Did you vote in 2023 General Elections?\")"
   ]
  },
  {
   "cell_type": "markdown",
   "id": "275f064f",
   "metadata": {
    "id": "275f064f"
   },
   "source": [
    "**Observation**\n",
    "* Less that 300 respondent did not vote in 2023 General Election"
   ]
  },
  {
   "cell_type": "markdown",
   "id": "725dfecd",
   "metadata": {},
   "source": [
    "### Observation on Why Some Respondent did Not Vote in 2023 general election"
   ]
  },
  {
   "cell_type": "code",
   "execution_count": null,
   "id": "2ad09815",
   "metadata": {},
   "outputs": [],
   "source": [
    "histogram_boxplot(data, \"If No, why not?\")"
   ]
  },
  {
   "cell_type": "markdown",
   "id": "2c16a39f",
   "metadata": {},
   "source": [
    "**Observation**\n",
    "\n",
    "* Majority of the respondent that did not vote are influenced by \n",
    "    1. Other reason best known to them\n",
    "    2. Lack of Permanent Voters Card (PVC) and \n",
    "    3. Unavailability  (such as distance, health issues) \n",
    "* Less than 100 respondent did not vote due to Electoral Violence                                 \n",
    "* Work (Journalist, Health officials, Security agents, Electoral officers) is reason for the least number of respondent that did not vote"
   ]
  },
  {
   "cell_type": "markdown",
   "id": "0188aaf1",
   "metadata": {},
   "source": [
    "### Observation on Respondent who has ever witnessed any form of electoral violence during elections?"
   ]
  },
  {
   "cell_type": "code",
   "execution_count": null,
   "id": "0456c223",
   "metadata": {
    "scrolled": false
   },
   "outputs": [],
   "source": [
    "histogram_boxplot(data, \"Have you ever witnessed any form of electoral violence during elections?\")"
   ]
  },
  {
   "cell_type": "markdown",
   "id": "74dbf4e8",
   "metadata": {},
   "source": [
    "**Observation**\n",
    "* Mjority od the respondent has witness at least a particular rform of electoral violence"
   ]
  },
  {
   "cell_type": "markdown",
   "id": "83354af9",
   "metadata": {},
   "source": [
    "### Observation on Respondent who has ever witnessed any form of harassment on social media?"
   ]
  },
  {
   "cell_type": "code",
   "execution_count": null,
   "id": "dd1c1490",
   "metadata": {},
   "outputs": [],
   "source": [
    "histogram_boxplot(data, \"Have you ever witnessed any form of harassment on social media?\")"
   ]
  },
  {
   "cell_type": "markdown",
   "id": "5dfde5c3",
   "metadata": {
    "id": "5dfde5c3"
   },
   "source": [
    "**Observation**\n",
    "\n",
    "* Majority of the resondent has witnessed at least a particular form of harrasment on socia media "
   ]
  },
  {
   "cell_type": "code",
   "execution_count": null,
   "id": "f0abf1a3",
   "metadata": {
    "id": "f0abf1a3",
    "outputId": "a5414639-5e3e-457f-9032-bdc6968be932"
   },
   "outputs": [],
   "source": [
    "# function to create labeled barplots\n",
    "\n",
    "\n",
    "def labeled_barplot(data, feature, perc=False, n=None):\n",
    "    \"\"\"\n",
    "    Barplot with percentage at the top\n",
    "\n",
    "    data: dataframe\n",
    "    feature: dataframe column\n",
    "    perc: whether to display percentages instead of count (default is False)\n",
    "    n: displays the top n category levels (default is None, i.e., display all levels)\n",
    "    \"\"\"\n",
    "\n",
    "    total = len(data[feature])  # length of the column\n",
    "    count = data[feature].nunique()\n",
    "    if n is None:\n",
    "        plt.figure(figsize=(count + 1, 5))\n",
    "    else:\n",
    "        plt.figure(figsize=(n + 1, 5))\n",
    "\n",
    "    plt.xticks(rotation=90, fontsize=15)\n",
    "    ax = sns.countplot(\n",
    "        data=data,\n",
    "        x=feature,\n",
    "        palette=\"Paired\",\n",
    "        order=data[feature].value_counts().index[:n].sort_values(),\n",
    "    )\n",
    "\n",
    "    for p in ax.patches:\n",
    "        if perc == True:\n",
    "            label = \"{:.1f}%\".format(\n",
    "                100 * p.get_height() / total\n",
    "            )  # percentage of each class of the category\n",
    "        else:\n",
    "            label = p.get_height()  # count of each level of the category\n",
    "\n",
    "        x = p.get_x() + p.get_width() / 2  # width of the plot\n",
    "        y = p.get_height()  # height of the plot\n",
    "\n",
    "        ax.annotate(\n",
    "            label,\n",
    "            (x, y),\n",
    "            ha=\"center\",\n",
    "            va=\"center\",\n",
    "            size=12,\n",
    "            xytext=(0, 5),\n",
    "            textcoords=\"offset points\",\n",
    "        )  # annotate the percentage\n",
    "\n",
    "    plt.show()  # show the plot"
   ]
  },
  {
   "cell_type": "markdown",
   "id": "295fa20f",
   "metadata": {
    "id": "295fa20f"
   },
   "source": [
    "### Observations on Gender"
   ]
  },
  {
   "cell_type": "code",
   "execution_count": null,
   "id": "29f3f84b",
   "metadata": {
    "id": "29f3f84b",
    "outputId": "05df5a16-8e63-453a-e387-1b602a0e3aea"
   },
   "outputs": [],
   "source": [
    "labeled_barplot(data, \"Gender\")"
   ]
  },
  {
   "cell_type": "markdown",
   "id": "9721cb08",
   "metadata": {
    "id": "9721cb08"
   },
   "source": [
    "* The female respondent is more than the male respondent."
   ]
  },
  {
   "cell_type": "markdown",
   "id": "5dda0f24",
   "metadata": {
    "id": "5dda0f24"
   },
   "source": [
    "### Observations on Work Sector"
   ]
  },
  {
   "cell_type": "code",
   "execution_count": null,
   "id": "3cbde4c0",
   "metadata": {
    "id": "3cbde4c0",
    "outputId": "8b3a9695-ae9f-4d0c-97ef-1c0bab1270bd"
   },
   "outputs": [],
   "source": [
    "labeled_barplot(data, \"Work Sector\")"
   ]
  },
  {
   "cell_type": "markdown",
   "id": "11120782",
   "metadata": {
    "id": "11120782"
   },
   "source": []
  },
  {
   "cell_type": "markdown",
   "id": "01e2bad1",
   "metadata": {
    "id": "01e2bad1"
   },
   "source": [
    "### Observations on Educational Qualification"
   ]
  },
  {
   "cell_type": "code",
   "execution_count": null,
   "id": "ff02277a",
   "metadata": {
    "id": "ff02277a",
    "outputId": "af59eb0f-1af4-40a0-c0f6-3df3fd8e5c66",
    "scrolled": false
   },
   "outputs": [],
   "source": [
    "labeled_barplot(data, \"Educational Qualification\")"
   ]
  },
  {
   "cell_type": "markdown",
   "id": "5cb94e1c",
   "metadata": {
    "id": "5cb94e1c"
   },
   "source": [
    "### Observations on Age range"
   ]
  },
  {
   "cell_type": "code",
   "execution_count": null,
   "id": "71e423b7",
   "metadata": {
    "id": "71e423b7",
    "outputId": "4f7aacf0-965f-4ae9-f80f-b33de40dcb3a"
   },
   "outputs": [],
   "source": [
    "labeled_barplot(data, \"Age range\")"
   ]
  },
  {
   "cell_type": "markdown",
   "id": "2f329e65",
   "metadata": {
    "id": "2f329e65"
   },
   "source": [
    "### Observations on Do you have a permanent voters card?"
   ]
  },
  {
   "cell_type": "code",
   "execution_count": null,
   "id": "ba281446",
   "metadata": {
    "id": "ba281446",
    "outputId": "c8bf0537-d286-41df-8502-14431713807a"
   },
   "outputs": [],
   "source": [
    "labeled_barplot(data, \"Do you have a permanent voters card?\")"
   ]
  },
  {
   "cell_type": "markdown",
   "id": "4bc68ba4",
   "metadata": {
    "id": "4bc68ba4"
   },
   "source": [
    "### Observations on Are you likely to vote when there is electoral violence around you?"
   ]
  },
  {
   "cell_type": "code",
   "execution_count": null,
   "id": "8a198dbe",
   "metadata": {
    "id": "8a198dbe",
    "outputId": "f5badae8-fd5e-426a-8b57-08c85b15e539"
   },
   "outputs": [],
   "source": [
    "labeled_barplot(data, \"Are you likely to vote when there is electoral violence around you?\")"
   ]
  },
  {
   "cell_type": "markdown",
   "id": "930ad721",
   "metadata": {
    "id": "930ad721"
   },
   "source": [
    "### Observations on Are you likely to prevent a \"female\" loved one from going to vote after violence occurs?"
   ]
  },
  {
   "cell_type": "code",
   "execution_count": null,
   "id": "fbb2babd",
   "metadata": {
    "id": "fbb2babd",
    "outputId": "3e5426e6-b61f-4d93-b360-5ef57eb63554"
   },
   "outputs": [],
   "source": [
    "labeled_barplot(data, 'Are you likely to prevent a \"female\" loved one from going to vote after violence occurs?')"
   ]
  },
  {
   "cell_type": "markdown",
   "id": "1b6ee942",
   "metadata": {
    "id": "1b6ee942"
   },
   "source": [
    "### Observations on Do you believe that violence deters women from participating in political activities such as rallies, elections, and campaigns?"
   ]
  },
  {
   "cell_type": "code",
   "execution_count": null,
   "id": "4e456033",
   "metadata": {
    "id": "4e456033",
    "outputId": "7fc0e4c7-c610-4b37-b16f-bba3db1915ca"
   },
   "outputs": [],
   "source": [
    "labeled_barplot(data, \"Do you believe that violence deters women from participating in political activities such as rallies, elections, and campaigns?\")"
   ]
  },
  {
   "cell_type": "markdown",
   "id": "42981112",
   "metadata": {
    "id": "42981112"
   },
   "source": [
    "### Observations on In your opinion, does violence impact the confidence of women in engaging in political activities?"
   ]
  },
  {
   "cell_type": "code",
   "execution_count": null,
   "id": "c10eba02",
   "metadata": {
    "id": "c10eba02",
    "outputId": "3c0d8922-cccb-4aa1-dd45-3224f9f49c56"
   },
   "outputs": [],
   "source": [
    "labeled_barplot(data, \"In your opinion, does violence impact the confidence of women in engaging in political activities?\")"
   ]
  },
  {
   "cell_type": "markdown",
   "id": "0cc9e14a",
   "metadata": {
    "id": "0cc9e14a"
   },
   "source": [
    "### Observations on Did you vote in 2023 General Elections?"
   ]
  },
  {
   "cell_type": "code",
   "execution_count": null,
   "id": "e0850668",
   "metadata": {
    "id": "e0850668",
    "outputId": "ede774e9-0dce-41ad-e4e5-ff1d6d1c2317"
   },
   "outputs": [],
   "source": [
    "labeled_barplot(data, \"Did you vote in 2023 General Elections?\")"
   ]
  },
  {
   "cell_type": "markdown",
   "id": "339c1f75",
   "metadata": {
    "id": "0cc9e14a"
   },
   "source": [
    "### Observations on If No, why not?"
   ]
  },
  {
   "cell_type": "code",
   "execution_count": null,
   "id": "147db663",
   "metadata": {
    "id": "e0850668",
    "outputId": "ede774e9-0dce-41ad-e4e5-ff1d6d1c2317"
   },
   "outputs": [],
   "source": [
    "labeled_barplot(data, \"If No, why not?\")"
   ]
  },
  {
   "cell_type": "markdown",
   "id": "edc0d16a",
   "metadata": {
    "id": "0cc9e14a"
   },
   "source": [
    "### Observations on Have you ever witnessed any form of electoral violence during elections?"
   ]
  },
  {
   "cell_type": "code",
   "execution_count": null,
   "id": "8423d94d",
   "metadata": {
    "id": "e0850668",
    "outputId": "ede774e9-0dce-41ad-e4e5-ff1d6d1c2317"
   },
   "outputs": [],
   "source": [
    "labeled_barplot(data, \"Have you ever witnessed any form of electoral violence during elections?\")"
   ]
  },
  {
   "cell_type": "markdown",
   "id": "bb92188b",
   "metadata": {
    "id": "0cc9e14a"
   },
   "source": [
    "### Observations on Have you ever witnessed any form of harassment on social media?"
   ]
  },
  {
   "cell_type": "code",
   "execution_count": null,
   "id": "9048250b",
   "metadata": {
    "id": "e0850668",
    "outputId": "ede774e9-0dce-41ad-e4e5-ff1d6d1c2317"
   },
   "outputs": [],
   "source": [
    "labeled_barplot(data, \"Have you ever witnessed any form of harassment on social media?\")"
   ]
  },
  {
   "cell_type": "markdown",
   "id": "7d6991e6",
   "metadata": {
    "id": "7d6991e6"
   },
   "source": [
    "## Bivariate Analysis"
   ]
  },
  {
   "cell_type": "code",
   "execution_count": null,
   "id": "666fcc5d",
   "metadata": {},
   "outputs": [],
   "source": [
    "for i in data.describe(include=[\"object\"]).columns:\n",
    "    print(\"Unique values in\", i, \"are :\")\n",
    "    print(data[i].value_counts())\n",
    "    print(\"*\" * 50)\n",
    "    print(\"*\" * 50)"
   ]
  },
  {
   "cell_type": "code",
   "execution_count": null,
   "id": "4d832f6f",
   "metadata": {},
   "outputs": [],
   "source": [
    "data.columns"
   ]
  },
  {
   "cell_type": "code",
   "execution_count": null,
   "id": "643282c8",
   "metadata": {},
   "outputs": [],
   "source": [
    "## Encoding Existing and Attrited customers to 0 and 1 respectively, for analysis.\n",
    "# data[\"Attrition_F\"].replace(\"Existing Customer\", 0, inplace=True)\n",
    "# data[\"Attrition_Flag\"].replace(\"Attrited Customer\", 1, inplace=True)\n",
    "\n",
    "data[\"Gender\"].replace(\"Male\", 1, inplace=True)\n",
    "data[\"Gender\"].replace(\"Female\", 0, inplace=True)\n",
    "\n",
    "data[\"Work Sector\"].replace(\"Formal Sector (9-5 jobs, Professionals, Hybrid jobs)\", 1, inplace=True)\n",
    "data[\"Work Sector\"].replace(\"Informal Sector (Artisans, Traders)\", 0, inplace=True)\n",
    "\n",
    "data[\"Do you have a permanent voters card?\"].replace(\"Yes\", 1, inplace=True)\n",
    "data[\"Do you have a permanent voters card?\"].replace(\"No\", 0, inplace=True)\n",
    "\n",
    "data[\"Did you vote in 2023 General Elections?\"].replace(\"Yes\", 1, inplace=True)\n",
    "data[\"Did you vote in 2023 General Elections?\"].replace(\"No\", 0, inplace=True)\n",
    "\n",
    "data[\"Educational Qualification\"].replace(\"Postgraduate\", 20, inplace=True)\n",
    "data[\"Educational Qualification\"].replace(\"Mbbs in view\", 15.5, inplace=True)\n",
    "data[\"Educational Qualification\"].replace(\"Btech\", 10.5, inplace=True)\n",
    "data[\"Educational Qualification\"].replace(\"HND, B.Sc.\", 10, inplace=True)\n",
    "data[\"Educational Qualification\"].replace(\"ND, NCE\", 9, inplace=True)\n",
    "data[\"Educational Qualification\"].replace(\"Undergraduate \", \"Undergraduate\", inplace=True)\n",
    "data[\"Educational Qualification\"].replace(\"Undergraduate\", 8, inplace=True)\n",
    "data[\"Educational Qualification\"].replace(\"SSCE and below\", 5, inplace=True)\n",
    "data[\"Educational Qualification\"].astype('float64')\n",
    "\n",
    "data[\"Age range\"].replace(\"18-30\", 24, inplace=True)\n",
    "data[\"Age range\"].replace(\"31-40\", 35.5, inplace=True)\n",
    "data[\"Age range\"].replace(\"51-60\", 55.5, inplace=True)\n",
    "data[\"Age range\"].replace(\"41-50\", 45.5, inplace=True)\n",
    "data[\"Age range\"].replace(\"51-61\", 56, inplace=True)\n",
    "data[\"Age range\"].replace(\"60 and above\", 80, inplace=True)\n",
    "data[\"Age range\"].astype('float64')\n",
    "\n",
    "data[\"Are you likely to vote when there is electoral violence around you?\"].replace(\"No\", 0, inplace=True)\n",
    "data[\"Are you likely to vote when there is electoral violence around you?\"].replace(\"Yes\", 1, inplace=True)\n",
    "data[\"Are you likely to vote when there is electoral violence around you?\"].replace(\"Uncertain\", 0.5, inplace=True)\n",
    "data[\"Are you likely to vote when there is electoral violence around you?\"].astype('float64')\n",
    "\n",
    "data['Are you likely to prevent a \"female\" loved one from going to vote after violence occurs?'].replace(\"No\", 0, inplace=True)\n",
    "data['Are you likely to prevent a \"female\" loved one from going to vote after violence occurs?'].replace(\"Yes\", 1, inplace=True)\n",
    "data['Are you likely to prevent a \"female\" loved one from going to vote after violence occurs?'].replace(\"Uncertain\", 0.5, inplace=True)\n",
    "data['Are you likely to prevent a \"female\" loved one from going to vote after violence occurs?'].astype('float64')\n",
    "\n",
    "data[\"Do you believe that violence deters women from participating in political activities such as rallies, elections, and campaigns?\"].replace(\"No\", 0, inplace=True)\n",
    "data[\"Do you believe that violence deters women from participating in political activities such as rallies, elections, and campaigns?\"].replace(\"Yes\", 1, inplace=True)\n",
    "data[\"Do you believe that violence deters women from participating in political activities such as rallies, elections, and campaigns?\"].replace(\"Uncertain\", 0.5, inplace=True)\n",
    "data[\"Do you believe that violence deters women from participating in political activities such as rallies, elections, and campaigns?\"].astype('float64')\n",
    "\n",
    "data[\"If No, why not?\"].replace(\"Others\", 0.3, inplace=True)\n",
    "data[\"If No, why not?\"].replace(\"No PVC\", 0, inplace=True)\n",
    "data[\"If No, why not?\"].replace(\"Unavailable  (distance, health issues)\", 0.5, inplace=True)\n",
    "data[\"If No, why not?\"].replace(\"Electoral Violence\", 1, inplace=True)\n",
    "data[\"If No, why not?\"].replace(\"Work (Journalist, Health officials, Security agents, Electoral officers)\", 0.5, inplace=True)\n",
    "data[\"If No, why not?\"].astype('float64')\n",
    "\n",
    "data[\"Have you ever witnessed any form of electoral violence during elections?\"].replace(\"Yes\", 1, inplace=True)\n",
    "data[\"Have you ever witnessed any form of electoral violence during elections?\"].replace(\"No\", 0, inplace=True)\n",
    "data[\"Have you ever witnessed any form of electoral violence during elections?\"].replace(\"Uncertain\", 0.5, inplace=True)\n",
    "data[\"Have you ever witnessed any form of electoral violence during elections?\"].astype('float64')\n",
    "\n",
    "data[\"Have you ever witnessed any form of harassment on social media?\"].replace(\"Yes\", 1, inplace=True)\n",
    "data[\"Have you ever witnessed any form of harassment on social media?\"].replace(\"No\", 0, inplace=True)\n",
    "data[\"Have you ever witnessed any form of harassment on social media?\"].replace(\"Uncertain\", 0.5, inplace=True)\n",
    "data[\"Have you ever witnessed any form of harassment on social media?\"].astype('float64')"
   ]
  },
  {
   "cell_type": "code",
   "execution_count": null,
   "id": "086bfcb0",
   "metadata": {},
   "outputs": [],
   "source": [
    "dataCorr = data.copy()\n",
    "\n",
    "dataCorr.rename(columns = {'Educational Qualification':'Edu. Qlf.'}, inplace = True)\n",
    "dataCorr.rename(columns = {'Do you have a permanent voters card?':'PVC'}, inplace = True)\n",
    "dataCorr.rename(columns = {'Did you vote in 2023 General Elections?':'Vote in 2023 Gen. Elec.'}, inplace = True)\n",
    "dataCorr.rename(columns = {'Are you likely to vote when there is electoral violence around you?':'Vote During Elec. Vio.'}, inplace = True)\n",
    "dataCorr.rename(columns = {'Are you likely to prevent a \"female\" loved one from going to vote after violence occurs?':'Allow Female Vote During Elec. Vio.'}, inplace = True)\n",
    "dataCorr.rename(columns = {'Do you believe that violence deters women from participating in political activities such as rallies, elections, and campaigns?':'Violence Deters Women From Parti.'}, inplace = True)\n",
    "dataCorr.rename(columns = {'In your opinion, does violence impact the confidence of women in engaging in political activities?':'Violence Impact Women Confi. In Parti.'}, inplace = True)\n",
    "dataCorr.rename(columns = {'Have you ever witnessed any form of electoral violence during elections?':'Witnessed any Elec. Vio.'}, inplace = True)\n",
    "dataCorr.rename(columns = {'Have you ever witnessed any form of harassment on social media?':'Witnessed Haras. Social Media'}, inplace = True)\n",
    "\n",
    "dataCorr.columns"
   ]
  },
  {
   "cell_type": "code",
   "execution_count": null,
   "id": "c0292ab1",
   "metadata": {
    "scrolled": false
   },
   "outputs": [],
   "source": [
    "dataCorr.corr(method='pearson', min_periods=0, numeric_only = True)"
   ]
  },
  {
   "cell_type": "code",
   "execution_count": null,
   "id": "1c87e9d3",
   "metadata": {
    "id": "1c87e9d3",
    "outputId": "5828949c-8fcc-4b98-aafd-47be2c9dcf53"
   },
   "outputs": [],
   "source": [
    "plt.figure(figsize=(15, 7))\n",
    "sns.heatmap(dataCorr.corr(method='pearson'), annot=True, vmin=-0, vmax=1, fmt=\".1f\", cmap=\"Spectral\")\n",
    "plt.show()"
   ]
  },
  {
   "cell_type": "markdown",
   "id": "c528a3ef",
   "metadata": {
    "id": "c528a3ef"
   },
   "source": [
    "**Observation**\n",
    "* The education qualification is well correlated to the work sector of the respondent\n",
    "* vote is 2023 election is well correlated with have a PVC and vote during election violence but slightly correlated to having witnessed harrassment on social media\n",
    "* violence deter women from participating in electoral activitives is higly correlated to allowing femal to vote during electoral violence\n",
    "* witnessing any form of electoral violence is also correlated to Why repondent do not vote in teh 2023 general election (\"if No, why Not\")\n",
    "* Gender shows a slight correlation with 'witnessed any Electoral Violence' "
   ]
  },
  {
   "cell_type": "code",
   "execution_count": null,
   "id": "9918e062",
   "metadata": {},
   "outputs": [],
   "source": [
    "sns.set_palette(sns.color_palette(\"Set1\", 8))\n",
    "sns.pairplot(dataCorr, hue=\"Gender\",corner=True)\n",
    "# plot_kws={'line_kws':{'color':'red'}}\n",
    "\n",
    "plt.show()"
   ]
  },
  {
   "cell_type": "code",
   "execution_count": null,
   "id": "4bb46199",
   "metadata": {
    "id": "4bb46199",
    "outputId": "d13d454b-fb9d-4c29-8f20-0def8fcbbe71"
   },
   "outputs": [],
   "source": [
    "# function to plot stacked bar chart\n",
    "\n",
    "\n",
    "def stacked_barplot(data, predictor, target):\n",
    "    \"\"\"\n",
    "    Print the category counts and plot a stacked bar chart\n",
    "\n",
    "    data: dataframe\n",
    "    predictor: independent variable\n",
    "    target: target variable\n",
    "    \"\"\"\n",
    "    count = data[predictor].nunique()\n",
    "    sorter = data[target].value_counts().index[-1]\n",
    "    tab1 = pd.crosstab(data[predictor], data[target], margins=True).sort_values(\n",
    "        by=sorter, ascending=False\n",
    "    )\n",
    "    print(tab1)\n",
    "    print(\"-\" * 120)\n",
    "    tab = pd.crosstab(data[predictor], data[target], normalize=\"index\").sort_values(\n",
    "        by=sorter, ascending=False\n",
    "    )\n",
    "    tab.plot(kind=\"bar\", stacked=True, figsize=(count + 9, 5))\n",
    "    plt.legend(\n",
    "        loc=\"lower left\", frameon=False,\n",
    "    )\n",
    "    plt.legend(loc=\"upper left\", bbox_to_anchor=(1, 1))\n",
    "    plt.show()"
   ]
  },
  {
   "cell_type": "markdown",
   "id": "03581d8c",
   "metadata": {
    "id": "03581d8c"
   },
   "source": [
    "### Gender vs Did you vote in 2023 General Elections?"
   ]
  },
  {
   "cell_type": "code",
   "execution_count": null,
   "id": "bc548bd8",
   "metadata": {
    "id": "bc548bd8",
    "outputId": "c9d6cf56-4a32-435c-d8e4-e7c34ef9fff0"
   },
   "outputs": [],
   "source": [
    "stacked_barplot(data, \"Gender\", \"Did you vote in 2023 General Elections?\")"
   ]
  },
  {
   "cell_type": "markdown",
   "id": "bf38fa2c",
   "metadata": {
    "id": "bf38fa2c"
   },
   "source": [
    "### Gender vs Do you have a permanent voters card?"
   ]
  },
  {
   "cell_type": "code",
   "execution_count": null,
   "id": "dc572a96",
   "metadata": {
    "id": "dc572a96",
    "outputId": "09b7c952-04e7-41a2-ba84-20fdfff4a1f3"
   },
   "outputs": [],
   "source": [
    "stacked_barplot(data, \"Gender\", \"Do you have a permanent voters card?\")"
   ]
  },
  {
   "cell_type": "markdown",
   "id": "6c4cc487",
   "metadata": {
    "id": "6c4cc487"
   },
   "source": [
    "### Gender vs Are you likely to vote when there is electoral violence around you?"
   ]
  },
  {
   "cell_type": "code",
   "execution_count": null,
   "id": "7031646f",
   "metadata": {
    "id": "7031646f",
    "outputId": "f4fb4dea-f61e-411b-9b5a-e9954a43de99"
   },
   "outputs": [],
   "source": [
    "stacked_barplot(data, \"Are you likely to vote when there is electoral violence around you?\", \"Gender\")"
   ]
  },
  {
   "cell_type": "markdown",
   "id": "0b6ad507",
   "metadata": {
    "id": "0b6ad507"
   },
   "source": [
    "### Gender vs  Are you likely to prevent a \"female\" loved one from going to vote after violence occurs?"
   ]
  },
  {
   "cell_type": "code",
   "execution_count": null,
   "id": "d8032230",
   "metadata": {
    "id": "d8032230",
    "outputId": "75306a20-4674-4b8c-e5cf-a7c8903e1103"
   },
   "outputs": [],
   "source": [
    "stacked_barplot(data, 'Are you likely to prevent a \"female\" loved one from going to vote after violence occurs?', \"Gender\")"
   ]
  },
  {
   "cell_type": "markdown",
   "id": "80183171",
   "metadata": {
    "id": "80183171"
   },
   "source": [
    "* The customers from two extreme income groups - Earning less than 40K and Earning more than 120k+ are the ones attriting the most."
   ]
  },
  {
   "cell_type": "markdown",
   "id": "6fbe49ef",
   "metadata": {
    "id": "6fbe49ef"
   },
   "source": [
    "### Gender vs Do you believe that violence deters women from participating in political activities such as rallies, elections, and campaigns?"
   ]
  },
  {
   "cell_type": "code",
   "execution_count": null,
   "id": "542e04a5",
   "metadata": {
    "id": "542e04a5",
    "outputId": "f1d00622-3b77-47a9-d32a-2f30ca871620"
   },
   "outputs": [],
   "source": [
    "stacked_barplot(data, \"Do you believe that violence deters women from participating in political activities such as rallies, elections, and campaigns?\", \"Gender\")"
   ]
  },
  {
   "cell_type": "markdown",
   "id": "83bbc106",
   "metadata": {
    "id": "83bbc106"
   },
   "source": [
    "### Gender vs In your opinion, does violence impact the confidence of women in engaging in political activities?"
   ]
  },
  {
   "cell_type": "code",
   "execution_count": null,
   "id": "9bcd424a",
   "metadata": {
    "id": "9bcd424a",
    "outputId": "c47a4474-35af-459e-8eb4-b84e9488a590"
   },
   "outputs": [],
   "source": [
    "stacked_barplot(data, \"In your opinion, does violence impact the confidence of women in engaging in political activities?\", \"Gender\")"
   ]
  },
  {
   "cell_type": "markdown",
   "id": "3b6ba17a",
   "metadata": {
    "id": "3b6ba17a"
   },
   "source": [
    "### Gender vs If No, why not?"
   ]
  },
  {
   "cell_type": "code",
   "execution_count": null,
   "id": "ae0ad682",
   "metadata": {
    "id": "ae0ad682",
    "outputId": "f81beaaa-1eee-4d52-e03c-f156de5c40e7"
   },
   "outputs": [],
   "source": [
    "stacked_barplot(data, \"If No, why not?\", \"Gender\")"
   ]
  },
  {
   "cell_type": "markdown",
   "id": "26911836",
   "metadata": {
    "id": "26911836"
   },
   "source": [
    "### Gender vs Have you ever witnessed any form of electoral violence during elections?"
   ]
  },
  {
   "cell_type": "code",
   "execution_count": null,
   "id": "0abdd9ab",
   "metadata": {
    "id": "0abdd9ab",
    "outputId": "75f84f9e-95a0-4f93-b37e-2b43bb6ea2ea"
   },
   "outputs": [],
   "source": [
    "stacked_barplot(data, \"Have you ever witnessed any form of electoral violence during elections?\", \"Gender\")"
   ]
  },
  {
   "cell_type": "markdown",
   "id": "756364bb",
   "metadata": {
    "id": "756364bb"
   },
   "source": [
    "### Gender vs Have you ever witnessed any form of harassment on social media?"
   ]
  },
  {
   "cell_type": "code",
   "execution_count": null,
   "id": "6d2d0a7c",
   "metadata": {
    "id": "6d2d0a7c",
    "outputId": "8b82cad6-95a3-4395-b385-190f3289d3d7",
    "scrolled": false
   },
   "outputs": [],
   "source": [
    "stacked_barplot(data, \"Have you ever witnessed any form of harassment on social media?\", \"Gender\")"
   ]
  },
  {
   "cell_type": "code",
   "execution_count": null,
   "id": "9a9eb6e1",
   "metadata": {
    "scrolled": false
   },
   "outputs": [],
   "source": [
    "stacked_barplot(data, \"Educational Qualification\", \"Gender\")"
   ]
  },
  {
   "cell_type": "markdown",
   "id": "9d693315",
   "metadata": {
    "id": "756364bb"
   },
   "source": [
    "### Gender vs Age range"
   ]
  },
  {
   "cell_type": "code",
   "execution_count": null,
   "id": "94553fe1",
   "metadata": {},
   "outputs": [],
   "source": [
    "stacked_barplot(data, \"Age range\", \"Gender\")"
   ]
  },
  {
   "cell_type": "code",
   "execution_count": null,
   "id": "eb2c6763",
   "metadata": {
    "id": "eb2c6763",
    "outputId": "1031396f-1a9f-46e1-e15d-8f42f8a139b6"
   },
   "outputs": [],
   "source": [
    "### Function to plot distributions\n",
    "\n",
    "\n",
    "def distribution_plot_wrt_target(data, predictor, target):\n",
    "\n",
    "    fig, axs = plt.subplots(2, 2, figsize=(12, 10))\n",
    "\n",
    "    target_uniq = data[target].unique()\n",
    "\n",
    "    axs[0, 0].set_title(\"Distribution of target for target=\" + str(target_uniq[0]))\n",
    "    sns.histplot(\n",
    "        data=data[data[target] == target_uniq[0]],\n",
    "        x=predictor,\n",
    "        kde=True,\n",
    "        ax=axs[0, 0],\n",
    "        color=\"teal\",\n",
    "    )\n",
    "\n",
    "    axs[0, 1].set_title(\"Distribution of target for target=\" + str(target_uniq[1]))\n",
    "    sns.histplot(\n",
    "        data=data[data[target] == target_uniq[1]],\n",
    "        x=predictor,\n",
    "        kde=True,\n",
    "        ax=axs[0, 1],\n",
    "        color=\"orange\",\n",
    "    )\n",
    "\n",
    "    axs[1, 0].set_title(\"Boxplot w.r.t target\")\n",
    "    sns.boxplot(data=data, x=target, y=predictor, ax=axs[1, 0], palette=\"gist_rainbow\")\n",
    "\n",
    "    axs[1, 1].set_title(\"Boxplot (without outliers) w.r.t target\")\n",
    "    sns.boxplot(\n",
    "        data=data,\n",
    "        x=target,\n",
    "        y=predictor,\n",
    "        ax=axs[1, 1],\n",
    "        showfliers=False,\n",
    "        palette=\"gist_rainbow\",\n",
    "    )\n",
    "\n",
    "    plt.tight_layout()\n",
    "    plt.show()"
   ]
  },
  {
   "cell_type": "markdown",
   "id": "51ac94be",
   "metadata": {
    "id": "51ac94be"
   },
   "source": [
    "### Gender vs Age range"
   ]
  },
  {
   "cell_type": "code",
   "execution_count": null,
   "id": "8f24dccd",
   "metadata": {
    "id": "8f24dccd",
    "outputId": "4aea02d6-6d3f-4295-8bd7-972e3695e842"
   },
   "outputs": [],
   "source": [
    "distribution_plot_wrt_target(data, \"Age range\", \"Gender\")"
   ]
  },
  {
   "cell_type": "markdown",
   "id": "4e5ff101",
   "metadata": {
    "id": "4e5ff101"
   },
   "source": [
    "### Gender vs Work Sector"
   ]
  },
  {
   "cell_type": "code",
   "execution_count": null,
   "id": "c2e4f27d",
   "metadata": {
    "id": "c2e4f27d",
    "outputId": "652f4f80-1e91-4a2e-dc3d-7421cc107347"
   },
   "outputs": [],
   "source": [
    "distribution_plot_wrt_target(data, \"Work Sector\", \"Gender\")"
   ]
  },
  {
   "cell_type": "markdown",
   "id": "fb73a113",
   "metadata": {
    "id": "fb73a113"
   },
   "source": [
    "### Gender vs Educational Qualification"
   ]
  },
  {
   "cell_type": "code",
   "execution_count": null,
   "id": "84358b2a",
   "metadata": {
    "id": "84358b2a",
    "outputId": "d018b73e-a071-4795-bd13-a4881ee2f196"
   },
   "outputs": [],
   "source": [
    "distribution_plot_wrt_target(data, \"Educational Qualification\", \"Gender\")"
   ]
  },
  {
   "cell_type": "markdown",
   "id": "2753aeeb",
   "metadata": {
    "id": "2753aeeb"
   },
   "source": [
    "### Gender vs Do you have a permanent voters card?"
   ]
  },
  {
   "cell_type": "code",
   "execution_count": null,
   "id": "063eb917",
   "metadata": {
    "id": "063eb917",
    "outputId": "cf28ff63-7899-448b-c083-d86ddb24a1d8"
   },
   "outputs": [],
   "source": [
    "distribution_plot_wrt_target(data, \"Do you have a permanent voters card?\", \"Gender\")"
   ]
  },
  {
   "cell_type": "markdown",
   "id": "4187d3d0",
   "metadata": {
    "id": "4187d3d0"
   },
   "source": [
    "### Gender vs Are you likely to vote when there is electoral violence around you?"
   ]
  },
  {
   "cell_type": "code",
   "execution_count": null,
   "id": "ba78c35a",
   "metadata": {
    "id": "ba78c35a",
    "outputId": "018e4cb3-b57f-4fbc-a327-d249163dfbe2"
   },
   "outputs": [],
   "source": [
    "distribution_plot_wrt_target(data, \"Are you likely to vote when there is electoral violence around you?\", \"Gender\")"
   ]
  },
  {
   "cell_type": "markdown",
   "id": "57af9fd8",
   "metadata": {
    "id": "57af9fd8"
   },
   "source": [
    "### Gender vs Are you likely to prevent a \"female\" loved one from going to vote after violence occurs?"
   ]
  },
  {
   "cell_type": "code",
   "execution_count": null,
   "id": "98682ef4",
   "metadata": {
    "id": "98682ef4",
    "outputId": "d34e88fe-4bf1-4c22-d972-a8d6fd25e45b"
   },
   "outputs": [],
   "source": [
    "distribution_plot_wrt_target(data,  'Are you likely to prevent a \"female\" loved one from going to vote after violence occurs?', \"Gender\")"
   ]
  },
  {
   "cell_type": "markdown",
   "id": "dc8cb001",
   "metadata": {
    "id": "dc8cb001"
   },
   "source": [
    "### Gender vs Do you believe that violence deters women from participating in political activities such as rallies, elections, and campaigns?"
   ]
  },
  {
   "cell_type": "code",
   "execution_count": null,
   "id": "e0602737",
   "metadata": {
    "id": "e0602737",
    "outputId": "c0d791e5-a073-41e4-b60e-901d46b24907"
   },
   "outputs": [],
   "source": [
    "distribution_plot_wrt_target(data, \"Do you believe that violence deters women from participating in political activities such as rallies, elections, and campaigns?\", \"Gender\")"
   ]
  },
  {
   "cell_type": "markdown",
   "id": "080af0b2",
   "metadata": {
    "id": "080af0b2"
   },
   "source": [
    "### Gender vs In your opinion, does violence impact the confidence of women in engaging in political activities?"
   ]
  },
  {
   "cell_type": "code",
   "execution_count": null,
   "id": "73f50dba",
   "metadata": {
    "id": "73f50dba",
    "outputId": "2ce48662-ff1b-4736-a641-7200ac4f0d41"
   },
   "outputs": [],
   "source": [
    "distribution_plot_wrt_target(data, \"In your opinion, does violence impact the confidence of women in engaging in political activities?\", \"Gender\")"
   ]
  },
  {
   "cell_type": "markdown",
   "id": "3b1cca3f",
   "metadata": {
    "id": "3b1cca3f"
   },
   "source": [
    "### Gender vs Did you vote in 2023 General Elections?"
   ]
  },
  {
   "cell_type": "code",
   "execution_count": null,
   "id": "882a5ab0",
   "metadata": {
    "id": "882a5ab0",
    "outputId": "13dce2e4-39c9-4791-9306-3fecbadc2516"
   },
   "outputs": [],
   "source": [
    "distribution_plot_wrt_target(data, \"Did you vote in 2023 General Elections?\", \"Gender\")"
   ]
  },
  {
   "cell_type": "markdown",
   "id": "1f275fb2",
   "metadata": {
    "id": "3b1cca3f"
   },
   "source": [
    "### Gender vs If No, why not?"
   ]
  },
  {
   "cell_type": "code",
   "execution_count": null,
   "id": "2d06424d",
   "metadata": {},
   "outputs": [],
   "source": [
    "distribution_plot_wrt_target(data, \"If No, why not?\", \"Gender\")"
   ]
  },
  {
   "cell_type": "code",
   "execution_count": null,
   "id": "76db499d",
   "metadata": {},
   "outputs": [],
   "source": [
    "distribution_plot_wrt_target(data, \"Have you ever witnessed any form of electoral violence during elections?\", \"Gender\")"
   ]
  },
  {
   "cell_type": "code",
   "execution_count": null,
   "id": "480dd34f",
   "metadata": {},
   "outputs": [],
   "source": [
    "distribution_plot_wrt_target(data, \"Have you ever witnessed any form of harassment on social media?\", \"Gender\")"
   ]
  },
  {
   "cell_type": "markdown",
   "id": "0949ab2a",
   "metadata": {
    "id": "0949ab2a"
   },
   "source": [
    "### Multivariant Analysis"
   ]
  },
  {
   "cell_type": "code",
   "execution_count": null,
   "id": "585c7a95",
   "metadata": {},
   "outputs": [],
   "source": [
    "# def line_plot(cols): \n",
    "#     plt.figure(figsize=(23, 11))\n",
    "#     for i, variable in enumerate(cols):\n",
    "#         plt.subplot(3, 3, i + 1)\n",
    "#         sns.lineplot(data=data, x=\"Educational Qualification\", y=variable, hue=\"Gender\", ci=0)\n",
    "#         plt.tight_layout()\n",
    "#         plt.title(variable)\n",
    "#     plt.show()\n",
    "\n",
    "# def line_plot(cols):\n",
    "#     num_plots = len(cols)\n",
    "#     rows = (num_plots + 2) // 3  # Determine the number of rows needed\n",
    "    \n",
    "#     plt.figure(figsize=(23, rows * 4))  # Adjust the figure size based on the number of rows\n",
    "    \n",
    "#     for i, variable in enumerate(cols):\n",
    "#         plt.subplot(rows, 3, i + 1)\n",
    "#         sns.lineplot(data=data, x=\"Educational Qualification\", y=variable, hue=\"Gender\", ci=0)\n",
    "#         plt.ylabel(variable)  # Set y-axis label\n",
    "#         plt.tight_layout()\n",
    "#         plt.title(variable)\n",
    "    \n",
    "#     plt.show()\n",
    "\n",
    "# import matplotlib.pyplot as plt\n",
    "# import seaborn as sns\n",
    "\n",
    "def line_plot( cols):\n",
    "    num_plots = len(cols)\n",
    "    rows = (num_plots + 2) // 3  # Determine the number of rows needed\n",
    "    \n",
    "    plt.figure(figsize=(23, rows * 4))  # Adjust the figure size based on the number of rows\n",
    "    \n",
    "    for i, variable in enumerate(cols):\n",
    "        plt.subplot(rows, 3, i + 1)\n",
    "        \n",
    "        # Count the occurrences of \"Yes\" and \"No\" for the given variable, grouped by Educational Qualification and Gender\n",
    "        counts = data.groupby(['Educational Qualification', 'Gender', variable]).size().reset_index(name='Count')\n",
    "#         counts = data.groupby(['Edu. Qlf.', 'Gender', variable]).size().reset_index(name='Count')\n",
    "        \n",
    "        # Plot the data with different markers for \"Yes\" and \"No\"\n",
    "        sns.lineplot(data=counts, x=\"Educational Qualification\", y='Count', hue=\"Gender\", style=variable, markers=True, dashes=False)\n",
    "        \n",
    "        plt.ylabel(f\"{variable}\")  # Set y-axis label\n",
    "        plt.title(variable)\n",
    "        plt.tight_layout()\n",
    "    \n",
    "    plt.show()\n",
    "\n"
   ]
  },
  {
   "cell_type": "code",
   "execution_count": null,
   "id": "350102d8",
   "metadata": {},
   "outputs": [],
   "source": [
    "dataCorr"
   ]
  },
  {
   "cell_type": "code",
   "execution_count": null,
   "id": "9d41c7c8",
   "metadata": {
    "id": "9d41c7c8",
    "outputId": "770d6219-94be-4a87-aad8-1105a7c69ede",
    "scrolled": false
   },
   "outputs": [],
   "source": [
    "cols = data[[\"Do you have a permanent voters card?\",\"Did you vote in 2023 General Elections?\"]].columns.tolist()\n",
    "line_plot(cols)\n",
    "\n",
    "# (['Gender', 'Work Sector', 'Edu. Qlf.', 'Age range', 'PVC',\n",
    "#        'Vote During Elec. Vio.', 'Allow Female Vote During Elec. Vio.',\n",
    "#        'Violence Deters Women From Parti.',\n",
    "#        'Violence Impact Women Confi. In Parti.', 'Vote in 2023 Gen. Elec.',\n",
    "#        'If No, why not?', 'Witnessed any Elec. Vio.',\n",
    "#        'Witnessed Haras. Social Media'],\n",
    "#       dtype='object')\n"
   ]
  },
  {
   "cell_type": "markdown",
   "id": "e496633c",
   "metadata": {
    "id": "e496633c"
   },
   "source": [
    "**Observation**\n",
    "* Majority lf the females that do not vot in the 2023 General Election hold BTech follow by MBBS in View\n",
    "* Majority of the female that have PVC are Undergraduate Studnet follow by BTech and Mbbs in view Holder"
   ]
  },
  {
   "cell_type": "code",
   "execution_count": null,
   "id": "00bbd492",
   "metadata": {},
   "outputs": [],
   "source": [
    "cols = data[\n",
    "    [\"Are you likely to vote when there is electoral violence around you?\",'Are you likely to prevent a \"female\" loved one from going to vote after violence occurs?']\n",
    "].columns.tolist()\n",
    "line_plot(cols)"
   ]
  },
  {
   "cell_type": "markdown",
   "id": "443f1dcc",
   "metadata": {
    "id": "e496633c"
   },
   "source": [
    "**Observation**\n",
    "* Majority of the females that their education level is undergarduate indicate they are not likely to vote when there is electoral violence around them\n",
    "* Although more male shows that are not likely to vote when there is electoral violence around them\n",
    "* Females with ND,NCE qualification still show willingness to vote despicte electoral violence around them\n",
    "* only Females with ND,NCE are uncertain to prevent a \"female\" loved one's from going to vote after violence occurs "
   ]
  },
  {
   "cell_type": "code",
   "execution_count": null,
   "id": "fde2ee74",
   "metadata": {},
   "outputs": [],
   "source": [
    "cols = data[\n",
    "    [\"Do you believe that violence deters women from participating in political activities such as rallies, elections, and campaigns?\"\n",
    "     ]\n",
    "].columns.tolist()\n",
    "line_plot(cols)"
   ]
  },
  {
   "cell_type": "code",
   "execution_count": null,
   "id": "9f313938",
   "metadata": {},
   "outputs": [],
   "source": [
    "cols = data[\n",
    "    ['In your opinion, does violence impact the confidence of women in engaging in political activities?']\n",
    "].columns.tolist()\n",
    "line_plot(cols)"
   ]
  },
  {
   "cell_type": "markdown",
   "id": "4755003b",
   "metadata": {
    "id": "e496633c"
   },
   "source": [
    "**Observation**\n",
    "* Male respondent who have Mbbs inn view are **uncertain if** violence deters women from participating in pratical activities sucg as as rallies, elections, and campaigns\n",
    "\n",
    "* Male respondent who have SSCE and Below claims that violence **does not** deters women from participating in pratical activities sucg as as rallies, elections, and campaigns\n",
    "\n",
    "* All the female respondent, irrespective of their educational level claims that **agree** that violence deters women from participating in pratical activities sucg as as rallies, elections, and campaigns"
   ]
  },
  {
   "cell_type": "code",
   "execution_count": null,
   "id": "4c580cad",
   "metadata": {},
   "outputs": [],
   "source": [
    "cols = data[\n",
    "    [\"Have you ever witnessed any form of electoral violence during elections?\",\n",
    "     'Have you ever witnessed any form of harassment on social media?']\n",
    "].columns.tolist()\n",
    "line_plot(cols)"
   ]
  },
  {
   "cell_type": "markdown",
   "id": "1b624dc6",
   "metadata": {
    "id": "e496633c"
   },
   "source": [
    "**Observation**\n",
    "* Male respondent who have BTech and undergraduate are are the lowest among all the respondent that has ever witnessed any form of electoral violence during elections\n",
    "\n",
    "* All the female respondent, irrespective of their educational level claims that **agree** that they have witnessed any form of electoral violence during elections with females with BTech beign the highest.\n",
    "\n",
    "* Male respondent who have BTech and Mbbs in view are are the lowest among all the respondent that has ever witnessed any form of harrassment on social media\n",
    "\n",
    "* All the female respondent, irrespective of their educational level claims that **agree** that they have witnessed any form of harrassment on social media with females with undergarduate beign the highest follow by Mbbsin view."
   ]
  },
  {
   "cell_type": "markdown",
   "id": "cd98a714",
   "metadata": {
    "id": "cd98a714"
   },
   "source": [
    "<a id='eda'></a>\n",
    "### <a id='link'>Summary of EDA</a>\n",
    "\n",
    "* The dataset has total of 533 Female and 258 Male respondent\n",
    "* There are no missing values in the dataset\n",
    "* High level of correlation exist between some of the variables.\n",
    "* There are also outilers\n",
    "\n",
    "**Data Cleaning**\n",
    "* Timestamp column contains uniques ID for response. This column has been dropped. \n",
    "* The target varaible is encoded to numeric.\n"
   ]
  },
  {
   "cell_type": "code",
   "execution_count": null,
   "id": "e000d424",
   "metadata": {
    "id": "e000d424",
    "outputId": "5b5cb70f-5e0e-46ca-b10a-10168490de2f",
    "scrolled": false
   },
   "outputs": [],
   "source": [
    "# creating histograms\n",
    "dataCorr.hist(figsize=(14, 14))\n",
    "plt.show()"
   ]
  },
  {
   "cell_type": "markdown",
   "id": "e7c3981e",
   "metadata": {
    "id": "e7c3981e"
   },
   "source": [
    "### Let's find the percentage of outliers, in each column of the data, using IQR."
   ]
  },
  {
   "cell_type": "code",
   "execution_count": null,
   "id": "617e8bd0",
   "metadata": {
    "id": "617e8bd0",
    "outputId": "c20dc206-7cde-4be3-e985-3d10e48daa1b"
   },
   "outputs": [],
   "source": [
    "Q1 = dataCorr.quantile(0.25)  # To find the 25th percentile and 75th percentile.\n",
    "Q3 = dataCorr.quantile(0.75)\n",
    "\n",
    "IQR = Q3 - Q1  # Inter Quantile Range (75th perentile - 25th percentile)\n",
    "\n",
    "lower = (\n",
    "    Q1 - 1.5 * IQR\n",
    ")  # Finding lower and upper bounds for all values. All values outside these bounds are outliers\n",
    "upper = Q3 + 1.5 * IQR"
   ]
  },
  {
   "cell_type": "code",
   "execution_count": null,
   "id": "2679b006",
   "metadata": {},
   "outputs": [],
   "source": [
    "lower"
   ]
  },
  {
   "cell_type": "code",
   "execution_count": null,
   "id": "c3a97fca",
   "metadata": {},
   "outputs": [],
   "source": [
    "upper"
   ]
  },
  {
   "cell_type": "code",
   "execution_count": null,
   "id": "dc9689d8",
   "metadata": {
    "id": "dc9689d8",
    "outputId": "4ebd4859-16db-4c9b-9171-08420299cbfd"
   },
   "outputs": [],
   "source": [
    "(\n",
    "    (dataCorr.select_dtypes(include=[\"float64\", \"int64\"]) < lower)\n",
    "    | (dataCorr.select_dtypes(include=[\"float64\", \"int64\"]) > upper)\n",
    ").sum() / len(data) * 100"
   ]
  },
  {
   "cell_type": "markdown",
   "id": "52cd62d7",
   "metadata": {
    "id": "52cd62d7"
   },
   "source": [
    "**Observation**\n",
    "* After identifying outliers, we can decide whether to remove/treat them or not. It depends on one's approach, here we are not going to treat them as there will be outliers in real case scenario (in Education qualification, Vote During Elec. Vio., Allow Female Vote During Elec. Vio., etc) and we would want our model to learn the underlying pattern for such customers."
   ]
  },
  {
   "cell_type": "code",
   "execution_count": null,
   "id": "70b8307d",
   "metadata": {
    "id": "70b8307d",
    "outputId": "b28a2277-1338-4aa9-f123-6eaa39c8684e"
   },
   "outputs": [],
   "source": [
    "data1 = data.copy()"
   ]
  },
  {
   "cell_type": "code",
   "execution_count": null,
   "id": "93e65425",
   "metadata": {
    "id": "93e65425",
    "outputId": "5bbc0102-6216-4b0f-a4e9-8eb29e4ea5e4"
   },
   "outputs": [],
   "source": [
    "imputer = SimpleImputer(strategy=\"most_frequent\")"
   ]
  },
  {
   "cell_type": "code",
   "execution_count": null,
   "id": "f54a957a",
   "metadata": {
    "id": "f54a957a",
    "outputId": "15f2efd7-8796-486c-ac12-12c5aee89cd7"
   },
   "outputs": [],
   "source": [
    "X = data1.drop([ 'Are you likely to prevent a \"female\" loved one from going to vote after violence occurs?'], axis=1)\n",
    "y = data1[ 'Are you likely to prevent a \"female\" loved one from going to vote after violence occurs?']"
   ]
  },
  {
   "cell_type": "code",
   "execution_count": null,
   "id": "72d57cb2",
   "metadata": {
    "colab": {
     "base_uri": "https://localhost:8080/",
     "height": 34
    },
    "id": "72d57cb2",
    "outputId": "c05575bb-cda5-4b49-d6dd-3f6c8cb0678e"
   },
   "outputs": [],
   "source": [
    "# Splitting data into training, validation and test set:\n",
    "# first we split data into 2 parts, say temporary and test\n",
    "\n",
    "X_temp, X_test, y_temp, y_test = train_test_split(\n",
    "    X, y, test_size=0.2, random_state=1, stratify=y\n",
    ")\n",
    "\n",
    "# then we split the temporary set into train and validation\n",
    "\n",
    "X_train, X_val, y_train, y_val = train_test_split(\n",
    "    X_temp, y_temp, test_size=0.25, random_state=1, stratify=y_temp\n",
    ")\n",
    "print(X_train.shape, X_val.shape, X_test.shape)"
   ]
  },
  {
   "cell_type": "code",
   "execution_count": null,
   "id": "1eedeab5",
   "metadata": {
    "id": "1eedeab5",
    "outputId": "f3a33632-e977-4731-e347-23b514b4ff23"
   },
   "outputs": [],
   "source": [
    "reqd_col_for_impute = [\"Educational Qualification\", \"Gender\", \"Are you likely to vote when there is electoral violence around you?\"]"
   ]
  },
  {
   "cell_type": "code",
   "execution_count": null,
   "id": "6a9ea1cb",
   "metadata": {
    "id": "6a9ea1cb",
    "outputId": "3c715247-3b68-46bf-ada9-799be7c5327f"
   },
   "outputs": [],
   "source": [
    "# Fit and transform the train data\n",
    "X_train[reqd_col_for_impute] = imputer.fit_transform(X_train[reqd_col_for_impute])\n",
    "\n",
    "# Transform the validation data\n",
    "X_val[reqd_col_for_impute] = imputer.transform(X_val[reqd_col_for_impute])\n",
    "\n",
    "# Transform the test data\n",
    "X_test[reqd_col_for_impute] = imputer.transform(X_test[reqd_col_for_impute])"
   ]
  },
  {
   "cell_type": "code",
   "execution_count": null,
   "id": "c86c92e4",
   "metadata": {
    "id": "c86c92e4",
    "outputId": "11a6e7ae-8a9e-4946-b0b0-0a2d6c32f971"
   },
   "outputs": [],
   "source": [
    "# Checking that no column has missing values in train or test sets\n",
    "print(X_train.isna().sum())\n",
    "print(\"-\" * 30)\n",
    "print(X_val.isna().sum())\n",
    "print(\"-\" * 30)\n",
    "print(X_test.isna().sum())"
   ]
  },
  {
   "cell_type": "markdown",
   "id": "2ef3affd",
   "metadata": {
    "id": "2ef3affd"
   },
   "source": [
    "* Here we confirm that there is no missing values / all missing values have been treated."
   ]
  },
  {
   "cell_type": "code",
   "execution_count": null,
   "id": "29d06e61",
   "metadata": {
    "id": "29d06e61",
    "outputId": "8220addd-60fc-402f-f806-ba715054c3dc"
   },
   "outputs": [],
   "source": [
    "cols = X_train.select_dtypes(include=[\"object\", \"category\"])\n",
    "for i in cols.columns:\n",
    "    print(X_train[i].value_counts())\n",
    "    print(\"*\" * 30)"
   ]
  },
  {
   "cell_type": "code",
   "execution_count": null,
   "id": "136c6022",
   "metadata": {
    "id": "136c6022",
    "outputId": "ddd6f725-a5c1-4bbc-dc11-441dbe019745"
   },
   "outputs": [],
   "source": [
    "cols = X_val.select_dtypes(include=[\"object\", \"category\"])\n",
    "for i in cols.columns:\n",
    "    print(X_val[i].value_counts())\n",
    "    print(\"*\" * 30)"
   ]
  },
  {
   "cell_type": "code",
   "execution_count": null,
   "id": "09ce8c1f",
   "metadata": {
    "id": "09ce8c1f",
    "outputId": "732cce3a-adb4-40c6-a6de-8c442a582196"
   },
   "outputs": [],
   "source": [
    "cols = X_test.select_dtypes(include=[\"object\", \"category\"])\n",
    "for i in cols.columns:\n",
    "    print(X_train[i].value_counts())\n",
    "    print(\"*\" * 30)"
   ]
  },
  {
   "cell_type": "markdown",
   "id": "1db1b914",
   "metadata": {
    "id": "1db1b914"
   },
   "source": [
    "### Encoding categorical variables"
   ]
  },
  {
   "cell_type": "code",
   "execution_count": null,
   "id": "bc60ffe4",
   "metadata": {
    "id": "bc60ffe4",
    "outputId": "1ad60198-6f08-41e5-ccdf-0441d825ebc4"
   },
   "outputs": [],
   "source": [
    "X_train = pd.get_dummies(X_train, drop_first=True)\n",
    "X_val = pd.get_dummies(X_val, drop_first=True)\n",
    "X_test = pd.get_dummies(X_test, drop_first=True)\n",
    "print(X_train.shape, X_val.shape, X_test.shape)"
   ]
  },
  {
   "cell_type": "markdown",
   "id": "b2c34f29",
   "metadata": {
    "id": "b2c34f29"
   },
   "source": [
    "* After encoding there are 28 columns."
   ]
  },
  {
   "cell_type": "code",
   "execution_count": null,
   "id": "5e41bd76",
   "metadata": {
    "id": "5e41bd76",
    "outputId": "56a020bc-f958-4b2d-e4d5-68a8bf2a1586"
   },
   "outputs": [],
   "source": [
    "X_train.head()"
   ]
  },
  {
   "cell_type": "markdown",
   "id": "f5b486b9",
   "metadata": {
    "id": "OzOa9FGA6WtG"
   },
   "source": [
    "## Model Building"
   ]
  },
  {
   "cell_type": "markdown",
   "id": "c044632c",
   "metadata": {
    "id": "YZqmoqz7bp0-"
   },
   "source": [
    "### Model evaluation criterion"
   ]
  },
  {
   "cell_type": "markdown",
   "id": "08f43612",
   "metadata": {
    "id": "l2ORUgmUjDZC"
   },
   "source": [
    "The nature of predictions made by the classification model will translate as follows:\n",
    "\n",
    "- True positives (TP) are failures correctly predicted by the model.\n",
    "- False negatives (FN) are real failures in a generator where there is no detection by model.\n",
    "- False positives (FP) are failure detections in a generator where there is no failure.\n",
    "- Accuracy\n",
    "- Precision\n",
    "- Recall\n",
    "- F1-Score\n",
    "\n",
    "**Which metric to optimize?**\n",
    "\n",
    "* We need to choose the metric which will ensure that the maximum number of generator failures are predicted correctly by the model.\n",
    "* We would want Recall to be maximized as greater the Recall, the higher the chances of minimizing false negatives.\n",
    "* We want to minimize false negatives because if a model predicts that a machine will have no failure when there will be a failure, it will increase the maintenance cost."
   ]
  },
  {
   "cell_type": "markdown",
   "id": "b1d973a9",
   "metadata": {
    "id": "djQTqGKU4jap"
   },
   "source": [
    "**Let's define a function to output different metrics (including recall) on the train and test set and a function to show confusion matrix so that we do not have to use the same code repetitively while evaluating models.**"
   ]
  },
  {
   "cell_type": "code",
   "execution_count": null,
   "id": "28675acc",
   "metadata": {
    "id": "28675acc",
    "outputId": "5be6c7d9-8347-4679-fb3d-37b60ca98fc8"
   },
   "outputs": [],
   "source": [
    "# defining a function to compute different metrics to check performance of a classification model built using sklearn\n",
    "def model_performance_classification_sklearn(model, predictors, target):\n",
    "    \"\"\"\n",
    "    Function to compute different metrics to check classification model performance\n",
    "\n",
    "    model: classifier\n",
    "    predictors: independent variables\n",
    "    target: dependent variable\n",
    "    \"\"\"\n",
    "\n",
    "    # predicting using the independent variables\n",
    "    pred = model.predict(predictors)\n",
    "\n",
    "    acc = accuracy_score(target, pred)  # to compute Accuracy\n",
    "    recall = recall_score(target, pred)  # to compute Recall\n",
    "    precision = precision_score(target, pred)  # to compute Precision\n",
    "    f1 = f1_score(target, pred)  # to compute F1-score\n",
    "\n",
    "    # creating a dataframe of metrics\n",
    "    df_perf = pd.DataFrame(\n",
    "        {\"Accuracy\": acc, \"Recall\": recall, \"Precision\": precision, \"F1\": f1,},\n",
    "        index=[0],\n",
    "    )\n",
    "\n",
    "    return df_perf"
   ]
  },
  {
   "cell_type": "code",
   "execution_count": null,
   "id": "8d3adba0",
   "metadata": {
    "id": "8d3adba0",
    "outputId": "cfe08a07-63d1-4dfe-ec14-9a82f23db51d"
   },
   "outputs": [],
   "source": [
    "def confusion_matrix_sklearn(model, predictors, target):\n",
    "    \"\"\"\n",
    "    To plot the confusion_matrix with percentages\n",
    "\n",
    "    model: classifier\n",
    "    predictors: independent variables\n",
    "    target: dependent variable\n",
    "    \"\"\"\n",
    "    y_pred = model.predict(predictors)\n",
    "    cm = confusion_matrix(target, y_pred)\n",
    "    labels = np.asarray(\n",
    "        [\n",
    "            [\"{0:0.0f}\".format(item) + \"\\n{0:.2%}\".format(item / cm.flatten().sum())]\n",
    "            for item in cm.flatten()\n",
    "        ]\n",
    "    ).reshape(2, 2)\n",
    "\n",
    "    plt.figure(figsize=(6, 4))\n",
    "    sns.heatmap(cm, annot=labels, fmt=\"\")\n",
    "    plt.ylabel(\"True label\")\n",
    "    plt.xlabel(\"Predicted label\")"
   ]
  },
  {
   "cell_type": "markdown",
   "id": "cdea3372",
   "metadata": {
    "id": "cdea3372"
   },
   "source": [
    "## Model with original data"
   ]
  },
  {
   "cell_type": "code",
   "execution_count": null,
   "id": "f20c7611",
   "metadata": {},
   "outputs": [],
   "source": [
    "X_train"
   ]
  },
  {
   "cell_type": "code",
   "execution_count": null,
   "id": "a8e69323",
   "metadata": {
    "scrolled": true
   },
   "outputs": [],
   "source": [
    "X_val"
   ]
  },
  {
   "cell_type": "code",
   "execution_count": null,
   "id": "fda235d9",
   "metadata": {
    "scrolled": false
   },
   "outputs": [],
   "source": [
    "X_val.drop([ 'Age range_51-61'], axis=1,inplace=True)\n",
    "X_val"
   ]
  },
  {
   "cell_type": "code",
   "execution_count": null,
   "id": "be50c6d3",
   "metadata": {
    "id": "be50c6d3",
    "outputId": "4e709f0c-afdd-4487-e066-318f0c23c4d6"
   },
   "outputs": [],
   "source": [
    "models = []  # Empty list to store all the models\n",
    "\n",
    "# Appending models into the list\n",
    "models.append((\"Logistic regression\", LogisticRegression(random_state=1)))\n",
    "\n",
    "\n",
    "print(\"\\n\" \"Training Performance:\" \"\\n\")\n",
    "for name, model in models:\n",
    "    model.fit(X_train, y_train)\n",
    "    scores = recall_score(y_train, model.predict(X_train), average='weighted')\n",
    "    print(\"{}: {}\".format(name, scores))\n",
    "\n",
    "print(\"\\n\" \"Validation Performance:\" \"\\n\")\n",
    "\n",
    "for name, model in models:\n",
    "    model.fit(X_train, y_train)\n",
    "    scores_val = recall_score(y_val, model.predict(X_val), average='weighted')\n",
    "    print(\"{}: {}\".format(name, scores_val))"
   ]
  },
  {
   "cell_type": "markdown",
   "id": "7f36a907",
   "metadata": {
    "id": "7f36a907"
   },
   "source": [
    "### Performance Analysis\n",
    "\n",
    "- Logistic Regression for predicting participation of Female in Election process\n"
   ]
  },
  {
   "cell_type": "code",
   "execution_count": null,
   "id": "eae39935",
   "metadata": {},
   "outputs": [],
   "source": [
    "# instantiate the model (using the default parameters)\n",
    "# LogisticRegression(random_state=1)\n",
    "logreg = LogisticRegression(random_state=16)\n",
    "\n",
    "# fit the model with data\n",
    "logreg.fit(X_train, y_train)\n",
    "\n",
    "y_pred = logreg.predict(X_test)"
   ]
  },
  {
   "cell_type": "code",
   "execution_count": null,
   "id": "fbb143f0",
   "metadata": {},
   "outputs": [],
   "source": [
    "cnf_matrix = metrics.confusion_matrix(y_test, y_pred)\n",
    "cnf_matrix"
   ]
  },
  {
   "cell_type": "code",
   "execution_count": null,
   "id": "a95c7949",
   "metadata": {},
   "outputs": [],
   "source": [
    "# import required modules\n",
    "import numpy as np\n",
    "import matplotlib.pyplot as plt\n",
    "import seaborn as sns\n",
    "\n",
    "class_names=[0,1] # name  of classes\n",
    "fig, ax = plt.subplots()\n",
    "tick_marks = np.arange(len(class_names))\n",
    "plt.xticks(tick_marks, class_names)\n",
    "plt.yticks(tick_marks, class_names)\n",
    "# create heatmap\n",
    "sns.heatmap(pd.DataFrame(cnf_matrix), annot=True, cmap=\"YlGnBu\" ,fmt='g')\n",
    "ax.xaxis.set_label_position(\"top\")\n",
    "plt.tight_layout()\n",
    "plt.title('Confusion matrix', y=1.1)\n",
    "plt.ylabel('Actual label')\n",
    "plt.xlabel('Predicted label')\n",
    "\n",
    "# Text(0.5,257.44,'Predicted label');"
   ]
  },
  {
   "cell_type": "code",
   "execution_count": null,
   "id": "0645d885",
   "metadata": {},
   "outputs": [],
   "source": [
    "from sklearn.metrics import classification_report\n",
    "target_names = ['Yes', 'No', 'Uncertain']\n",
    "print(classification_report(y_test, y_pred, target_names=target_names))"
   ]
  },
  {
   "cell_type": "markdown",
   "id": "a09a36c0",
   "metadata": {},
   "source": [
    "**DESCRIPTION OF THE WORK SO FAR**\n",
    "\n",
    "* **STEP 1:** EXPLORATORY DATA ANALYSIS (EDA)\n",
    "    - the EDA analysis provide proper understanding of the data\n",
    "    - show existence of outliers\n",
    "    \n",
    "* **STEP 2:** SPLITING OF DATA\n",
    "    - Split data into Train and Test Set\n",
    "    \n",
    "* **STEP 3:** APPLY MINMAX\n",
    "    - Apply MinMax Scaler on Train Set\n",
    "    - Apply MinMax Scaler on Test Set\n",
    "    \n",
    "* **STEP 4:** TRAIN MODEL\n",
    "    - Train the Logictic Regression Model on the Train Set\n",
    "    \n",
    "* **STEP 5:** EVALUATE\n",
    "    - Evaluate the Model performance on the Test Set\n",
    "    - metric include Accuracy, Recall, F1-score, Precision\n",
    "    - the model recorded the following performance\n",
    "        1. **Accuracy of 90%**, \n",
    "        2. **F1-score of 88%**, \n",
    "        3. **Recall of 90%** and \n",
    "        4. **Precision 88%** \n"
   ]
  },
  {
   "cell_type": "code",
   "execution_count": null,
   "id": "86ce4cfb",
   "metadata": {},
   "outputs": [],
   "source": []
  }
 ],
 "metadata": {
  "colab": {
   "collapsed_sections": [
    "cd98a714",
    "21d82749",
    "9e577895",
    "21e2a05a",
    "30cd5bc4",
    "08029ef1",
    "3ca6494b",
    "9d06764f",
    "a8326f8c",
    "d2c4c61c",
    "a73589a3",
    "27cd3efb",
    "c5785044",
    "e466b3fa",
    "4fd578a1",
    "295fa20f",
    "5dda0f24",
    "01e2bad1",
    "5cb94e1c",
    "2f329e65",
    "4bc68ba4",
    "930ad721",
    "1b6ee942",
    "42981112",
    "0cc9e14a",
    "03581d8c",
    "bf38fa2c",
    "6c4cc487",
    "0b6ad507",
    "6fbe49ef",
    "83bbc106",
    "3b6ba17a",
    "26911836",
    "756364bb",
    "51ac94be",
    "4e5ff101",
    "fb73a113",
    "5ce92e94",
    "2753aeeb",
    "4187d3d0",
    "57af9fd8",
    "dc8cb001",
    "080af0b2"
   ],
   "provenance": [],
   "toc_visible": true
  },
  "kernelspec": {
   "display_name": "Python 3 (ipykernel)",
   "language": "python",
   "name": "python3"
  },
  "language_info": {
   "codemirror_mode": {
    "name": "ipython",
    "version": 3
   },
   "file_extension": ".py",
   "mimetype": "text/x-python",
   "name": "python",
   "nbconvert_exporter": "python",
   "pygments_lexer": "ipython3",
   "version": "3.11.5"
  }
 },
 "nbformat": 4,
 "nbformat_minor": 5
}
